{
 "cells": [
  {
   "cell_type": "markdown",
   "metadata": {},
   "source": [
    "## Edge, vertex, and network attributes"
   ]
  },
  {
   "cell_type": "code",
   "execution_count": 7,
   "metadata": {},
   "outputs": [],
   "source": [
    "library(igraph)\n",
    "load(\"createnetworks.var\")   # load the previously saved variables"
   ]
  },
  {
   "cell_type": "code",
   "execution_count": 8,
   "metadata": {},
   "outputs": [
    {
     "data": {
      "text/plain": [
       "+ 4/4 edges from b2c3f5b (vertex names):\n",
       "[1] John->Jim  Jim ->Jack Jim ->Jack John->John"
      ]
     },
     "metadata": {},
     "output_type": "display_data"
    }
   ],
   "source": [
    "E(g4) # The edges of the object"
   ]
  },
  {
   "cell_type": "code",
   "execution_count": 9,
   "metadata": {},
   "outputs": [
    {
     "data": {
      "text/plain": [
       "+ 7/7 vertices, named, from b2c3f5b:\n",
       "[1] John     Jim      Jack     Jesse    Janis    Jennifer Justin  "
      ]
     },
     "metadata": {},
     "output_type": "display_data"
    }
   ],
   "source": [
    "V(g4) # The vertices of the object"
   ]
  },
  {
   "cell_type": "code",
   "execution_count": 10,
   "metadata": {},
   "outputs": [
    {
     "data": {
      "text/plain": [
       "7 x 7 sparse Matrix of class \"dgCMatrix\"\n",
       "         John Jim Jack Jesse Janis Jennifer Justin\n",
       "John        1   1    .     .     .        .      .\n",
       "Jim         .   .    2     .     .        .      .\n",
       "Jack        .   .    .     .     .        .      .\n",
       "Jesse       .   .    .     .     .        .      .\n",
       "Janis       .   .    .     .     .        .      .\n",
       "Jennifer    .   .    .     .     .        .      .\n",
       "Justin      .   .    .     .     .        .      ."
      ]
     },
     "metadata": {},
     "output_type": "display_data"
    }
   ],
   "source": [
    "g4[] #You can also examine the network matrix directly:"
   ]
  },
  {
   "cell_type": "code",
   "execution_count": 11,
   "metadata": {},
   "outputs": [
    {
     "data": {
      "text/html": [
       "<dl class=dl-horizontal>\n",
       "\t<dt>John</dt>\n",
       "\t\t<dd>1</dd>\n",
       "\t<dt>Jim</dt>\n",
       "\t\t<dd>1</dd>\n",
       "\t<dt>Jack</dt>\n",
       "\t\t<dd>0</dd>\n",
       "\t<dt>Jesse</dt>\n",
       "\t\t<dd>0</dd>\n",
       "\t<dt>Janis</dt>\n",
       "\t\t<dd>0</dd>\n",
       "\t<dt>Jennifer</dt>\n",
       "\t\t<dd>0</dd>\n",
       "\t<dt>Justin</dt>\n",
       "\t\t<dd>0</dd>\n",
       "</dl>\n"
      ],
      "text/latex": [
       "\\begin{description*}\n",
       "\\item[John] 1\n",
       "\\item[Jim] 1\n",
       "\\item[Jack] 0\n",
       "\\item[Jesse] 0\n",
       "\\item[Janis] 0\n",
       "\\item[Jennifer] 0\n",
       "\\item[Justin] 0\n",
       "\\end{description*}\n"
      ],
      "text/markdown": [
       "John\n",
       ":   1Jim\n",
       ":   1Jack\n",
       ":   0Jesse\n",
       ":   0Janis\n",
       ":   0Jennifer\n",
       ":   0Justin\n",
       ":   0\n",
       "\n"
      ],
      "text/plain": [
       "    John      Jim     Jack    Jesse    Janis Jennifer   Justin \n",
       "       1        1        0        0        0        0        0 "
      ]
     },
     "metadata": {},
     "output_type": "display_data"
    }
   ],
   "source": [
    "g4[1,]"
   ]
  },
  {
   "cell_type": "code",
   "execution_count": 12,
   "metadata": {},
   "outputs": [
    {
     "data": {
      "text/html": [
       "<ol class=list-inline>\n",
       "\t<li>'John'</li>\n",
       "\t<li>'Jim'</li>\n",
       "\t<li>'Jack'</li>\n",
       "\t<li>'Jesse'</li>\n",
       "\t<li>'Janis'</li>\n",
       "\t<li>'Jennifer'</li>\n",
       "\t<li>'Justin'</li>\n",
       "</ol>\n"
      ],
      "text/latex": [
       "\\begin{enumerate*}\n",
       "\\item 'John'\n",
       "\\item 'Jim'\n",
       "\\item 'Jack'\n",
       "\\item 'Jesse'\n",
       "\\item 'Janis'\n",
       "\\item 'Jennifer'\n",
       "\\item 'Justin'\n",
       "\\end{enumerate*}\n"
      ],
      "text/markdown": [
       "1. 'John'\n",
       "2. 'Jim'\n",
       "3. 'Jack'\n",
       "4. 'Jesse'\n",
       "5. 'Janis'\n",
       "6. 'Jennifer'\n",
       "7. 'Justin'\n",
       "\n",
       "\n"
      ],
      "text/plain": [
       "[1] \"John\"     \"Jim\"      \"Jack\"     \"Jesse\"    \"Janis\"    \"Jennifer\" \"Justin\"  "
      ]
     },
     "metadata": {},
     "output_type": "display_data"
    }
   ],
   "source": [
    "V(g4)$name # automatically generated when we created the network."
   ]
  },
  {
   "cell_type": "code",
   "execution_count": 13,
   "metadata": {},
   "outputs": [],
   "source": [
    "V(g4)$gender <- c(\"male\", \"male\", \"male\", \"male\", \"female\", \"female\", \"male\")\n",
    "E(g4)$type <- \"email\" # Edge attribute, assign \"email\" to all edges\n",
    "E(g4)$weight <- 10    # Edge weight, setting all existing edges to 10"
   ]
  },
  {
   "cell_type": "code",
   "execution_count": 14,
   "metadata": {},
   "outputs": [
    {
     "data": {
      "text/html": [
       "<dl>\n",
       "\t<dt>$type</dt>\n",
       "\t\t<dd><ol class=list-inline>\n",
       "\t<li>'email'</li>\n",
       "\t<li>'email'</li>\n",
       "\t<li>'email'</li>\n",
       "\t<li>'email'</li>\n",
       "</ol>\n",
       "</dd>\n",
       "\t<dt>$weight</dt>\n",
       "\t\t<dd><ol class=list-inline>\n",
       "\t<li>10</li>\n",
       "\t<li>10</li>\n",
       "\t<li>10</li>\n",
       "\t<li>10</li>\n",
       "</ol>\n",
       "</dd>\n",
       "</dl>\n"
      ],
      "text/latex": [
       "\\begin{description}\n",
       "\\item[\\$type] \\begin{enumerate*}\n",
       "\\item 'email'\n",
       "\\item 'email'\n",
       "\\item 'email'\n",
       "\\item 'email'\n",
       "\\end{enumerate*}\n",
       "\n",
       "\\item[\\$weight] \\begin{enumerate*}\n",
       "\\item 10\n",
       "\\item 10\n",
       "\\item 10\n",
       "\\item 10\n",
       "\\end{enumerate*}\n",
       "\n",
       "\\end{description}\n"
      ],
      "text/markdown": [
       "$type\n",
       ":   1. 'email'\n",
       "2. 'email'\n",
       "3. 'email'\n",
       "4. 'email'\n",
       "\n",
       "\n",
       "\n",
       "$weight\n",
       ":   1. 10\n",
       "2. 10\n",
       "3. 10\n",
       "4. 10\n",
       "\n",
       "\n",
       "\n",
       "\n",
       "\n"
      ],
      "text/plain": [
       "$type\n",
       "[1] \"email\" \"email\" \"email\" \"email\"\n",
       "\n",
       "$weight\n",
       "[1] 10 10 10 10\n"
      ]
     },
     "metadata": {},
     "output_type": "display_data"
    }
   ],
   "source": [
    "edge_attr(g4)"
   ]
  },
  {
   "cell_type": "code",
   "execution_count": 15,
   "metadata": {},
   "outputs": [
    {
     "data": {
      "text/html": [
       "<dl>\n",
       "\t<dt>$name</dt>\n",
       "\t\t<dd><ol class=list-inline>\n",
       "\t<li>'John'</li>\n",
       "\t<li>'Jim'</li>\n",
       "\t<li>'Jack'</li>\n",
       "\t<li>'Jesse'</li>\n",
       "\t<li>'Janis'</li>\n",
       "\t<li>'Jennifer'</li>\n",
       "\t<li>'Justin'</li>\n",
       "</ol>\n",
       "</dd>\n",
       "\t<dt>$gender</dt>\n",
       "\t\t<dd><ol class=list-inline>\n",
       "\t<li>'male'</li>\n",
       "\t<li>'male'</li>\n",
       "\t<li>'male'</li>\n",
       "\t<li>'male'</li>\n",
       "\t<li>'female'</li>\n",
       "\t<li>'female'</li>\n",
       "\t<li>'male'</li>\n",
       "</ol>\n",
       "</dd>\n",
       "</dl>\n"
      ],
      "text/latex": [
       "\\begin{description}\n",
       "\\item[\\$name] \\begin{enumerate*}\n",
       "\\item 'John'\n",
       "\\item 'Jim'\n",
       "\\item 'Jack'\n",
       "\\item 'Jesse'\n",
       "\\item 'Janis'\n",
       "\\item 'Jennifer'\n",
       "\\item 'Justin'\n",
       "\\end{enumerate*}\n",
       "\n",
       "\\item[\\$gender] \\begin{enumerate*}\n",
       "\\item 'male'\n",
       "\\item 'male'\n",
       "\\item 'male'\n",
       "\\item 'male'\n",
       "\\item 'female'\n",
       "\\item 'female'\n",
       "\\item 'male'\n",
       "\\end{enumerate*}\n",
       "\n",
       "\\end{description}\n"
      ],
      "text/markdown": [
       "$name\n",
       ":   1. 'John'\n",
       "2. 'Jim'\n",
       "3. 'Jack'\n",
       "4. 'Jesse'\n",
       "5. 'Janis'\n",
       "6. 'Jennifer'\n",
       "7. 'Justin'\n",
       "\n",
       "\n",
       "\n",
       "$gender\n",
       ":   1. 'male'\n",
       "2. 'male'\n",
       "3. 'male'\n",
       "4. 'male'\n",
       "5. 'female'\n",
       "6. 'female'\n",
       "7. 'male'\n",
       "\n",
       "\n",
       "\n",
       "\n",
       "\n"
      ],
      "text/plain": [
       "$name\n",
       "[1] \"John\"     \"Jim\"      \"Jack\"     \"Jesse\"    \"Janis\"    \"Jennifer\" \"Justin\"  \n",
       "\n",
       "$gender\n",
       "[1] \"male\"   \"male\"   \"male\"   \"male\"   \"female\" \"female\" \"male\"  \n"
      ]
     },
     "metadata": {},
     "output_type": "display_data"
    }
   ],
   "source": [
    "vertex_attr(g4)"
   ]
  },
  {
   "cell_type": "code",
   "execution_count": 18,
   "metadata": {},
   "outputs": [
    {
     "name": "stdout",
     "output_type": "stream",
     "text": [
      " Named list()\n"
     ]
    }
   ],
   "source": [
    "str(graph_attr(g4))"
   ]
  },
  {
   "cell_type": "code",
   "execution_count": null,
   "metadata": {},
   "outputs": [],
   "source": []
  }
 ],
 "metadata": {
  "kernelspec": {
   "display_name": "R",
   "language": "R",
   "name": "ir"
  },
  "language_info": {
   "codemirror_mode": "r",
   "file_extension": ".r",
   "mimetype": "text/x-r-source",
   "name": "R",
   "pygments_lexer": "r",
   "version": "3.2.3"
  }
 },
 "nbformat": 4,
 "nbformat_minor": 2
}

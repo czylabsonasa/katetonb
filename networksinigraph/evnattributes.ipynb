{
 "cells": [
  {
   "cell_type": "markdown",
   "metadata": {},
   "source": [
    "## Edge, vertex, and network attributes"
   ]
  },
  {
   "cell_type": "code",
   "execution_count": 54,
   "metadata": {
    "collapsed": false
   },
   "outputs": [],
   "source": [
    "library(igraph)\n",
    "load(\"createnetworks.var\")   # load the previously saved variables\n",
    "# adjust these numbers according your taste,\n",
    "# the default plotting sizes are too big in my browser\n",
    "options(repr.plot.width=8, repr.plot.height=4) "
   ]
  },
  {
   "cell_type": "code",
   "execution_count": 55,
   "metadata": {
    "collapsed": false
   },
   "outputs": [
    {
     "data": {
      "text/plain": [
       "+ 4/4 edges from ef88769 (vertex names):\n",
       "[1] John->Jim  Jim ->Jack Jim ->Jack John->John"
      ]
     },
     "metadata": {},
     "output_type": "display_data"
    }
   ],
   "source": [
    "E(g4) # The edges of the object"
   ]
  },
  {
   "cell_type": "code",
   "execution_count": 56,
   "metadata": {
    "collapsed": false
   },
   "outputs": [
    {
     "data": {
      "text/plain": [
       "+ 7/7 vertices, named, from ef88769:\n",
       "[1] John     Jim      Jack     Jesse    Janis    Jennifer Justin  "
      ]
     },
     "metadata": {},
     "output_type": "display_data"
    }
   ],
   "source": [
    "V(g4) # The vertices of the object"
   ]
  },
  {
   "cell_type": "code",
   "execution_count": 57,
   "metadata": {
    "collapsed": false
   },
   "outputs": [
    {
     "data": {
      "text/plain": [
       "7 x 7 sparse Matrix of class \"dgCMatrix\"\n",
       "         John Jim Jack Jesse Janis Jennifer Justin\n",
       "John        1   1    .     .     .        .      .\n",
       "Jim         .   .    2     .     .        .      .\n",
       "Jack        .   .    .     .     .        .      .\n",
       "Jesse       .   .    .     .     .        .      .\n",
       "Janis       .   .    .     .     .        .      .\n",
       "Jennifer    .   .    .     .     .        .      .\n",
       "Justin      .   .    .     .     .        .      ."
      ]
     },
     "metadata": {},
     "output_type": "display_data"
    }
   ],
   "source": [
    "g4[] #You can also examine the network matrix directly:"
   ]
  },
  {
   "cell_type": "code",
   "execution_count": 58,
   "metadata": {
    "collapsed": false
   },
   "outputs": [
    {
     "data": {
      "text/html": [
       "<dl class=dl-horizontal>\n",
       "\t<dt>John</dt>\n",
       "\t\t<dd>1</dd>\n",
       "\t<dt>Jim</dt>\n",
       "\t\t<dd>1</dd>\n",
       "\t<dt>Jack</dt>\n",
       "\t\t<dd>0</dd>\n",
       "\t<dt>Jesse</dt>\n",
       "\t\t<dd>0</dd>\n",
       "\t<dt>Janis</dt>\n",
       "\t\t<dd>0</dd>\n",
       "\t<dt>Jennifer</dt>\n",
       "\t\t<dd>0</dd>\n",
       "\t<dt>Justin</dt>\n",
       "\t\t<dd>0</dd>\n",
       "</dl>\n"
      ],
      "text/latex": [
       "\\begin{description*}\n",
       "\\item[John] 1\n",
       "\\item[Jim] 1\n",
       "\\item[Jack] 0\n",
       "\\item[Jesse] 0\n",
       "\\item[Janis] 0\n",
       "\\item[Jennifer] 0\n",
       "\\item[Justin] 0\n",
       "\\end{description*}\n"
      ],
      "text/markdown": [
       "John\n",
       ":   1Jim\n",
       ":   1Jack\n",
       ":   0Jesse\n",
       ":   0Janis\n",
       ":   0Jennifer\n",
       ":   0Justin\n",
       ":   0\n",
       "\n"
      ],
      "text/plain": [
       "    John      Jim     Jack    Jesse    Janis Jennifer   Justin \n",
       "       1        1        0        0        0        0        0 "
      ]
     },
     "metadata": {},
     "output_type": "display_data"
    }
   ],
   "source": [
    "g4[1,]"
   ]
  },
  {
   "cell_type": "code",
   "execution_count": 59,
   "metadata": {
    "collapsed": false
   },
   "outputs": [
    {
     "data": {
      "text/html": [
       "<ol class=list-inline>\n",
       "\t<li>'John'</li>\n",
       "\t<li>'Jim'</li>\n",
       "\t<li>'Jack'</li>\n",
       "\t<li>'Jesse'</li>\n",
       "\t<li>'Janis'</li>\n",
       "\t<li>'Jennifer'</li>\n",
       "\t<li>'Justin'</li>\n",
       "</ol>\n"
      ],
      "text/latex": [
       "\\begin{enumerate*}\n",
       "\\item 'John'\n",
       "\\item 'Jim'\n",
       "\\item 'Jack'\n",
       "\\item 'Jesse'\n",
       "\\item 'Janis'\n",
       "\\item 'Jennifer'\n",
       "\\item 'Justin'\n",
       "\\end{enumerate*}\n"
      ],
      "text/markdown": [
       "1. 'John'\n",
       "2. 'Jim'\n",
       "3. 'Jack'\n",
       "4. 'Jesse'\n",
       "5. 'Janis'\n",
       "6. 'Jennifer'\n",
       "7. 'Justin'\n",
       "\n",
       "\n"
      ],
      "text/plain": [
       "[1] \"John\"     \"Jim\"      \"Jack\"     \"Jesse\"    \"Janis\"    \"Jennifer\" \"Justin\"  "
      ]
     },
     "metadata": {},
     "output_type": "display_data"
    }
   ],
   "source": [
    "V(g4)$name # automatically generated when we created the network."
   ]
  },
  {
   "cell_type": "code",
   "execution_count": 60,
   "metadata": {
    "collapsed": true
   },
   "outputs": [],
   "source": [
    "V(g4)$gender <- c(\"male\", \"male\", \"male\", \"male\", \"female\", \"female\", \"male\")\n",
    "E(g4)$type <- \"email\" # Edge attribute, assign \"email\" to all edges\n",
    "E(g4)$weight <- 10    # Edge weight, setting all existing edges to 10"
   ]
  },
  {
   "cell_type": "code",
   "execution_count": 61,
   "metadata": {
    "collapsed": false
   },
   "outputs": [
    {
     "data": {
      "text/html": [
       "<dl>\n",
       "\t<dt>$type</dt>\n",
       "\t\t<dd><ol class=list-inline>\n",
       "\t<li>'email'</li>\n",
       "\t<li>'email'</li>\n",
       "\t<li>'email'</li>\n",
       "\t<li>'email'</li>\n",
       "</ol>\n",
       "</dd>\n",
       "\t<dt>$weight</dt>\n",
       "\t\t<dd><ol class=list-inline>\n",
       "\t<li>10</li>\n",
       "\t<li>10</li>\n",
       "\t<li>10</li>\n",
       "\t<li>10</li>\n",
       "</ol>\n",
       "</dd>\n",
       "</dl>\n"
      ],
      "text/latex": [
       "\\begin{description}\n",
       "\\item[\\$type] \\begin{enumerate*}\n",
       "\\item 'email'\n",
       "\\item 'email'\n",
       "\\item 'email'\n",
       "\\item 'email'\n",
       "\\end{enumerate*}\n",
       "\n",
       "\\item[\\$weight] \\begin{enumerate*}\n",
       "\\item 10\n",
       "\\item 10\n",
       "\\item 10\n",
       "\\item 10\n",
       "\\end{enumerate*}\n",
       "\n",
       "\\end{description}\n"
      ],
      "text/markdown": [
       "$type\n",
       ":   1. 'email'\n",
       "2. 'email'\n",
       "3. 'email'\n",
       "4. 'email'\n",
       "\n",
       "\n",
       "\n",
       "$weight\n",
       ":   1. 10\n",
       "2. 10\n",
       "3. 10\n",
       "4. 10\n",
       "\n",
       "\n",
       "\n",
       "\n",
       "\n"
      ],
      "text/plain": [
       "$type\n",
       "[1] \"email\" \"email\" \"email\" \"email\"\n",
       "\n",
       "$weight\n",
       "[1] 10 10 10 10\n"
      ]
     },
     "metadata": {},
     "output_type": "display_data"
    }
   ],
   "source": [
    "edge_attr(g4)"
   ]
  },
  {
   "cell_type": "code",
   "execution_count": 62,
   "metadata": {
    "collapsed": false
   },
   "outputs": [
    {
     "data": {
      "text/html": [
       "<dl>\n",
       "\t<dt>$name</dt>\n",
       "\t\t<dd><ol class=list-inline>\n",
       "\t<li>'John'</li>\n",
       "\t<li>'Jim'</li>\n",
       "\t<li>'Jack'</li>\n",
       "\t<li>'Jesse'</li>\n",
       "\t<li>'Janis'</li>\n",
       "\t<li>'Jennifer'</li>\n",
       "\t<li>'Justin'</li>\n",
       "</ol>\n",
       "</dd>\n",
       "\t<dt>$gender</dt>\n",
       "\t\t<dd><ol class=list-inline>\n",
       "\t<li>'male'</li>\n",
       "\t<li>'male'</li>\n",
       "\t<li>'male'</li>\n",
       "\t<li>'male'</li>\n",
       "\t<li>'female'</li>\n",
       "\t<li>'female'</li>\n",
       "\t<li>'male'</li>\n",
       "</ol>\n",
       "</dd>\n",
       "</dl>\n"
      ],
      "text/latex": [
       "\\begin{description}\n",
       "\\item[\\$name] \\begin{enumerate*}\n",
       "\\item 'John'\n",
       "\\item 'Jim'\n",
       "\\item 'Jack'\n",
       "\\item 'Jesse'\n",
       "\\item 'Janis'\n",
       "\\item 'Jennifer'\n",
       "\\item 'Justin'\n",
       "\\end{enumerate*}\n",
       "\n",
       "\\item[\\$gender] \\begin{enumerate*}\n",
       "\\item 'male'\n",
       "\\item 'male'\n",
       "\\item 'male'\n",
       "\\item 'male'\n",
       "\\item 'female'\n",
       "\\item 'female'\n",
       "\\item 'male'\n",
       "\\end{enumerate*}\n",
       "\n",
       "\\end{description}\n"
      ],
      "text/markdown": [
       "$name\n",
       ":   1. 'John'\n",
       "2. 'Jim'\n",
       "3. 'Jack'\n",
       "4. 'Jesse'\n",
       "5. 'Janis'\n",
       "6. 'Jennifer'\n",
       "7. 'Justin'\n",
       "\n",
       "\n",
       "\n",
       "$gender\n",
       ":   1. 'male'\n",
       "2. 'male'\n",
       "3. 'male'\n",
       "4. 'male'\n",
       "5. 'female'\n",
       "6. 'female'\n",
       "7. 'male'\n",
       "\n",
       "\n",
       "\n",
       "\n",
       "\n"
      ],
      "text/plain": [
       "$name\n",
       "[1] \"John\"     \"Jim\"      \"Jack\"     \"Jesse\"    \"Janis\"    \"Jennifer\" \"Justin\"  \n",
       "\n",
       "$gender\n",
       "[1] \"male\"   \"male\"   \"male\"   \"male\"   \"female\" \"female\" \"male\"  \n"
      ]
     },
     "metadata": {},
     "output_type": "display_data"
    }
   ],
   "source": [
    "vertex_attr(g4)"
   ]
  },
  {
   "cell_type": "code",
   "execution_count": 63,
   "metadata": {
    "collapsed": false
   },
   "outputs": [
    {
     "name": "stdout",
     "output_type": "stream",
     "text": [
      " Named list()\n"
     ]
    }
   ],
   "source": [
    "str(graph_attr(g4))"
   ]
  },
  {
   "cell_type": "markdown",
   "metadata": {},
   "source": [
    "Another way to set attributes (you can similarly use `set_edge_attr()`, `set_vertex_attr()` etc.):"
   ]
  },
  {
   "cell_type": "code",
   "execution_count": 64,
   "metadata": {
    "collapsed": false
   },
   "outputs": [
    {
     "data": {
      "text/html": [
       "<ol class=list-inline>\n",
       "\t<li>'name'</li>\n",
       "\t<li>'date of birth'</li>\n",
       "</ol>\n"
      ],
      "text/latex": [
       "\\begin{enumerate*}\n",
       "\\item 'name'\n",
       "\\item 'date of birth'\n",
       "\\end{enumerate*}\n"
      ],
      "text/markdown": [
       "1. 'name'\n",
       "2. 'date of birth'\n",
       "\n",
       "\n"
      ],
      "text/plain": [
       "[1] \"name\"          \"date of birth\""
      ]
     },
     "metadata": {},
     "output_type": "display_data"
    },
    {
     "data": {
      "text/html": [
       "<dl>\n",
       "\t<dt>$name</dt>\n",
       "\t\t<dd>'Email Network'</dd>\n",
       "\t<dt>$`date of birth`</dt>\n",
       "\t\t<dd>'tomorrow'</dd>\n",
       "</dl>\n"
      ],
      "text/latex": [
       "\\begin{description}\n",
       "\\item[\\$name] 'Email Network'\n",
       "\\item[\\$`date of birth`] 'tomorrow'\n",
       "\\end{description}\n"
      ],
      "text/markdown": [
       "$name\n",
       ":   'Email Network'\n",
       "$`date of birth`\n",
       ":   'tomorrow'\n",
       "\n",
       "\n"
      ],
      "text/plain": [
       "$name\n",
       "[1] \"Email Network\"\n",
       "\n",
       "$`date of birth`\n",
       "[1] \"tomorrow\"\n"
      ]
     },
     "metadata": {},
     "output_type": "display_data"
    }
   ],
   "source": [
    "g4 <- set_graph_attr(g4, \"name\", \"Email Network\")\n",
    "g4 <- set_graph_attr(g4, \"date of birth\", \"tomorrow\")\n",
    "graph_attr_names(g4)\n",
    "graph_attr(g4)"
   ]
  },
  {
   "cell_type": "code",
   "execution_count": 65,
   "metadata": {
    "collapsed": false
   },
   "outputs": [
    {
     "data": {
      "text/html": [
       "<strong>$`date of birth`</strong> = 'tomorrow'"
      ],
      "text/latex": [
       "\\textbf{\\$`date of birth`} = 'tomorrow'"
      ],
      "text/markdown": [
       "**$`date of birth`** = 'tomorrow'"
      ],
      "text/plain": [
       "$`date of birth`\n",
       "[1] \"tomorrow\"\n"
      ]
     },
     "metadata": {},
     "output_type": "display_data"
    }
   ],
   "source": [
    "g4 <- delete_graph_attr(g4, \"name\")\n",
    "graph_attr(g4)"
   ]
  },
  {
   "cell_type": "code",
   "execution_count": 66,
   "metadata": {
    "collapsed": false
   },
   "outputs": [
    {
     "data": {
      "image/png": "[encoded data removed]",
      "text/plain": [
       "Plot with title “”"
      ]
     },
     "metadata": {},
     "output_type": "display_data"
    }
   ],
   "source": [
    "plot(g4, edge.arrow.size=.5, vertex.label.color=\"black\", \n",
    "     vertex.label.dist=3.5,\n",
    "     vertex.color=c( \"pink\", \"skyblue\")[1+(V(g4)$gender==\"male\")] ) "
   ]
  },
  {
   "cell_type": "markdown",
   "metadata": {},
   "source": [
    "The graph `g4` has two edges going from Jim to Jack, and a loop from John to himself. We can simplify our graph to remove loops & multiple edges between the same nodes. Use `edge.attr.comb` to indicate how edge attributes are to be combined - possible options include `sum`, `mean`, `prod` (product), `min`, `max`, `first/last` (selects the first/last edge’s attribute). Option “ignore” says the attribute should be disregarded and dropped."
   ]
  },
  {
   "cell_type": "code",
   "execution_count": 68,
   "metadata": {
    "collapsed": false
   },
   "outputs": [
    {
     "data": {
      "image/png": "[encoded data removed]",
      "text/plain": [
       "Plot with title “”"
      ]
     },
     "metadata": {},
     "output_type": "display_data"
    }
   ],
   "source": [
    "g4s <- simplify( g4, remove.multiple = T, remove.loops = F, \n",
    "                 edge.attr.comb=c(weight=\"sum\", type=\"ignore\") )\n",
    "\n",
    "plot(g4s, vertex.label.dist=3.5)"
   ]
  },
  {
   "cell_type": "code",
   "execution_count": 71,
   "metadata": {
    "collapsed": false
   },
   "outputs": [
    {
     "data": {
      "text/plain": [
       "IGRAPH 17afa48 DNW- 7 3 -- \n",
       "+ attr: date of birth (g/c), name (v/c), gender (v/c), weight (e/n)\n",
       "+ edges from 17afa48 (vertex names):\n",
       "[1] John->John John->Jim  Jim ->Jack"
      ]
     },
     "metadata": {},
     "output_type": "display_data"
    }
   ],
   "source": [
    "g4s"
   ]
  },
  {
   "cell_type": "markdown",
   "metadata": {},
   "source": [
    "The description of an [igraph](http://igraph.org) object starts with up to four letters:\n",
    "* D or U, for a directed or undirected graph\n",
    "* N for a named graph (where nodes have a name attribute)\n",
    "* W for a weighted graph (where edges have a weight attribute)\n",
    "* B for a bipartite (two-mode) graph (where nodes have a type attribute)\n",
    "\n",
    "The two numbers that follow refer to the number of nodes and edges in the graph. The description also lists node & edge attributes, for example:\n",
    "* (g/c) - graph-level character attribute\n",
    "* (v/c) - vertex-level character attribute\n",
    "* (e/n) - edge-level numeric attribute\n"
   ]
  },
  {
   "cell_type": "code",
   "execution_count": null,
   "metadata": {
    "collapsed": true
   },
   "outputs": [],
   "source": [
    "The two numbers that follow (7 5) refer to the number of nodes and edges in the graph. The description also lists node & edge attributes, for example:"
   ]
  }
 ],
 "metadata": {
  "kernelspec": {
   "display_name": "R",
   "language": "R",
   "name": "ir"
  },
  "language_info": {
   "codemirror_mode": "r",
   "file_extension": ".r",
   "mimetype": "text/x-r-source",
   "name": "R",
   "pygments_lexer": "r",
   "version": "3.3.2"
  }
 },
 "nbformat": 4,
 "nbformat_minor": 2
}

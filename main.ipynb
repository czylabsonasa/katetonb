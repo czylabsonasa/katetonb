{
 "cells": [
  {
   "cell_type": "markdown",
   "metadata": {},
   "source": [
    "<style>\n",
    "body {\n",
    "    counter-reset: h1\n",
    "}\n",
    "\n",
    "h1 {\n",
    "    counter-reset: h2\n",
    "}\n",
    "\n",
    "h2 {\n",
    "    counter-reset: h3\n",
    "}\n",
    "\n",
    "h3 {\n",
    "    counter-reset: h4\n",
    "}\n",
    "\n",
    "h1:before {\n",
    "    counter-increment: h1;\n",
    "    content: counter(h1) \". \"\n",
    "}\n",
    "\n",
    "h2:before {\n",
    "    counter-increment: h2;\n",
    "    content: counter(h1) \".\" counter(h2) \". \"\n",
    "}\n",
    "\n",
    "h3:before {\n",
    "    counter-increment: h3;\n",
    "    content: counter(h1) \".\" counter(h2) \".\" counter(h3) \". \"\n",
    "}\n",
    "\n",
    "h4:before {\n",
    "    counter-increment: h4;\n",
    "    content: counter(h1) \".\" counter(h2) \".\" \n",
    "    counter(h3) \".\" counter(h4) \". \"\n",
    "}\n",
    "\n",
    "</style>"
   ]
  },
  {
   "cell_type": "markdown",
   "metadata": {},
   "source": [
    "### Original document: http://kateto.net/networks-r-igraph"
   ]
  },
  {
   "cell_type": "markdown",
   "metadata": {},
   "source": [
    "# [A quick reminder of R basics](quickreminder/main.ipynb)\n",
    "# [Networks in igraph](networksinigraph/main.ipynb)\n"
   ]
  },
  {
   "cell_type": "code",
   "execution_count": null,
   "metadata": {
    "collapsed": true
   },
   "outputs": [],
   "source": []
  }
 ],
 "metadata": {
  "kernelspec": {
   "display_name": "R",
   "language": "R",
   "name": "ir"
  },
  "language_info": {
   "codemirror_mode": "r",
   "file_extension": ".r",
   "mimetype": "text/x-r-source",
   "name": "R",
   "pygments_lexer": "r",
   "version": "3.3.2"
  }
 },
 "nbformat": 4,
 "nbformat_minor": 2
}

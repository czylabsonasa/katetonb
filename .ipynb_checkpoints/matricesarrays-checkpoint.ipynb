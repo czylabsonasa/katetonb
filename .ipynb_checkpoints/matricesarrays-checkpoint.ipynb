{
 "cells": [
  {
   "cell_type": "markdown",
   "metadata": {},
   "source": [
    "<style>\n",
    "body {\n",
    "    counter-reset: h1\n",
    "}\n",
    "\n",
    "h1 {\n",
    "    counter-reset: h2\n",
    "}\n",
    "\n",
    "h2 {\n",
    "    counter-reset: h3\n",
    "}\n",
    "\n",
    "h3 {\n",
    "    counter-reset: h4\n",
    "}\n",
    "\n",
    "h1:before {\n",
    "    counter-increment: h1;\n",
    "    content: counter(h1) \". \"\n",
    "}\n",
    "\n",
    "h2:before {\n",
    "    counter-increment: h2;\n",
    "    content: counter(h1) \".\" counter(h2) \". \"\n",
    "}\n",
    "\n",
    "h3:before {\n",
    "    counter-increment: h3;\n",
    "    content: counter(h1) \".\" counter(h2) \".\" counter(h3) \". \"\n",
    "}\n",
    "\n",
    "h4:before {\n",
    "    counter-increment: h4;\n",
    "    content: counter(h1) \".\" counter(h2) \".\" \n",
    "    counter(h3) \".\" counter(h4) \". \"\n",
    "}\n",
    "\n",
    "</style>"
   ]
  },
  {
   "cell_type": "markdown",
   "metadata": {},
   "source": [
    "## Matrices & Arrays <br>\n",
    "<div class=\"alert alert-success\">\n",
    "A matrix is a vector with dimensions:\n",
    "</div>"
   ]
  },
  {
   "cell_type": "code",
   "execution_count": 2,
   "metadata": {
    "collapsed": false
   },
   "outputs": [
    {
     "data": {
      "text/html": [
       "<ol class=list-inline>\n",
       "\t<li>1</li>\n",
       "\t<li>1</li>\n",
       "\t<li>1</li>\n",
       "\t<li>1</li>\n",
       "\t<li>1</li>\n",
       "\t<li>1</li>\n",
       "\t<li>1</li>\n",
       "\t<li>1</li>\n",
       "\t<li>1</li>\n",
       "\t<li>1</li>\n",
       "\t<li>1</li>\n",
       "\t<li>1</li>\n",
       "\t<li>1</li>\n",
       "\t<li>1</li>\n",
       "\t<li>1</li>\n",
       "\t<li>1</li>\n",
       "\t<li>1</li>\n",
       "\t<li>1</li>\n",
       "\t<li>1</li>\n",
       "\t<li>1</li>\n",
       "</ol>\n"
      ],
      "text/latex": [
       "\\begin{enumerate*}\n",
       "\\item 1\n",
       "\\item 1\n",
       "\\item 1\n",
       "\\item 1\n",
       "\\item 1\n",
       "\\item 1\n",
       "\\item 1\n",
       "\\item 1\n",
       "\\item 1\n",
       "\\item 1\n",
       "\\item 1\n",
       "\\item 1\n",
       "\\item 1\n",
       "\\item 1\n",
       "\\item 1\n",
       "\\item 1\n",
       "\\item 1\n",
       "\\item 1\n",
       "\\item 1\n",
       "\\item 1\n",
       "\\end{enumerate*}\n"
      ],
      "text/markdown": [
       "1. 1\n",
       "2. 1\n",
       "3. 1\n",
       "4. 1\n",
       "5. 1\n",
       "6. 1\n",
       "7. 1\n",
       "8. 1\n",
       "9. 1\n",
       "10. 1\n",
       "11. 1\n",
       "12. 1\n",
       "13. 1\n",
       "14. 1\n",
       "15. 1\n",
       "16. 1\n",
       "17. 1\n",
       "18. 1\n",
       "19. 1\n",
       "20. 1\n",
       "\n",
       "\n"
      ],
      "text/plain": [
       " [1] 1 1 1 1 1 1 1 1 1 1 1 1 1 1 1 1 1 1 1 1"
      ]
     },
     "metadata": {},
     "output_type": "display_data"
    },
    {
     "data": {
      "text/html": [
       "<ol class=list-inline>\n",
       "\t<li>5</li>\n",
       "\t<li>4</li>\n",
       "</ol>\n"
      ],
      "text/latex": [
       "\\begin{enumerate*}\n",
       "\\item 5\n",
       "\\item 4\n",
       "\\end{enumerate*}\n"
      ],
      "text/markdown": [
       "1. 5\n",
       "2. 4\n",
       "\n",
       "\n"
      ],
      "text/plain": [
       "[1] 5 4"
      ]
     },
     "metadata": {},
     "output_type": "display_data"
    },
    {
     "data": {
      "text/html": [
       "<table>\n",
       "<tbody>\n",
       "\t<tr><td>1</td><td>1</td><td>1</td><td>1</td></tr>\n",
       "\t<tr><td>1</td><td>1</td><td>1</td><td>1</td></tr>\n",
       "\t<tr><td>1</td><td>1</td><td>1</td><td>1</td></tr>\n",
       "\t<tr><td>1</td><td>1</td><td>1</td><td>1</td></tr>\n",
       "\t<tr><td>1</td><td>1</td><td>1</td><td>1</td></tr>\n",
       "</tbody>\n",
       "</table>\n"
      ],
      "text/latex": [
       "\\begin{tabular}{llll}\n",
       "\t 1 & 1 & 1 & 1\\\\\n",
       "\t 1 & 1 & 1 & 1\\\\\n",
       "\t 1 & 1 & 1 & 1\\\\\n",
       "\t 1 & 1 & 1 & 1\\\\\n",
       "\t 1 & 1 & 1 & 1\\\\\n",
       "\\end{tabular}\n"
      ],
      "text/markdown": [
       "\n",
       "| 1 | 1 | 1 | 1 | \n",
       "| 1 | 1 | 1 | 1 | \n",
       "| 1 | 1 | 1 | 1 | \n",
       "| 1 | 1 | 1 | 1 | \n",
       "| 1 | 1 | 1 | 1 | \n",
       "\n",
       "\n"
      ],
      "text/plain": [
       "     [,1] [,2] [,3] [,4]\n",
       "[1,] 1    1    1    1   \n",
       "[2,] 1    1    1    1   \n",
       "[3,] 1    1    1    1   \n",
       "[4,] 1    1    1    1   \n",
       "[5,] 1    1    1    1   "
      ]
     },
     "metadata": {},
     "output_type": "display_data"
    }
   ],
   "source": [
    "m <- rep(1, 20)   # A vector of 20 elements, all 1\n",
    "m\n",
    "dim(m) <- c(5,4)  # Dimensions set to 5 & 4, so m is now a 5x4 matrix\n",
    "dim(m)\n",
    "m\n"
   ]
  },
  {
   "cell_type": "markdown",
   "metadata": {},
   "source": [
    "<div class=\"alert alert-success\">\n",
    "Creating a matrix by combining vectors:\n",
    "</div>"
   ]
  },
  {
   "cell_type": "code",
   "execution_count": 3,
   "metadata": {
    "collapsed": false
   },
   "outputs": [
    {
     "data": {
      "text/html": [
       "<table>\n",
       "<tbody>\n",
       "\t<tr><td>1</td><td>5</td><td>5</td></tr>\n",
       "\t<tr><td>2</td><td>4</td><td>6</td></tr>\n",
       "\t<tr><td>3</td><td>3</td><td>7</td></tr>\n",
       "\t<tr><td>4</td><td>2</td><td>8</td></tr>\n",
       "\t<tr><td>5</td><td>1</td><td>9</td></tr>\n",
       "</tbody>\n",
       "</table>\n"
      ],
      "text/latex": [
       "\\begin{tabular}{lll}\n",
       "\t 1 & 5 & 5\\\\\n",
       "\t 2 & 4 & 6\\\\\n",
       "\t 3 & 3 & 7\\\\\n",
       "\t 4 & 2 & 8\\\\\n",
       "\t 5 & 1 & 9\\\\\n",
       "\\end{tabular}\n"
      ],
      "text/markdown": [
       "\n",
       "| 1 | 5 | 5 | \n",
       "| 2 | 4 | 6 | \n",
       "| 3 | 3 | 7 | \n",
       "| 4 | 2 | 8 | \n",
       "| 5 | 1 | 9 | \n",
       "\n",
       "\n"
      ],
      "text/plain": [
       "     [,1] [,2] [,3]\n",
       "[1,] 1    5    5   \n",
       "[2,] 2    4    6   \n",
       "[3,] 3    3    7   \n",
       "[4,] 4    2    8   \n",
       "[5,] 5    1    9   "
      ]
     },
     "metadata": {},
     "output_type": "display_data"
    },
    {
     "data": {
      "text/html": [
       "<table>\n",
       "<tbody>\n",
       "\t<tr><td>1</td><td>2</td><td>3</td><td>4</td><td>5</td></tr>\n",
       "\t<tr><td>5</td><td>4</td><td>3</td><td>2</td><td>1</td></tr>\n",
       "\t<tr><td>5</td><td>6</td><td>7</td><td>8</td><td>9</td></tr>\n",
       "</tbody>\n",
       "</table>\n"
      ],
      "text/latex": [
       "\\begin{tabular}{lllll}\n",
       "\t 1 & 2 & 3 & 4 & 5\\\\\n",
       "\t 5 & 4 & 3 & 2 & 1\\\\\n",
       "\t 5 & 6 & 7 & 8 & 9\\\\\n",
       "\\end{tabular}\n"
      ],
      "text/markdown": [
       "\n",
       "| 1 | 2 | 3 | 4 | 5 | \n",
       "| 5 | 4 | 3 | 2 | 1 | \n",
       "| 5 | 6 | 7 | 8 | 9 | \n",
       "\n",
       "\n"
      ],
      "text/plain": [
       "     [,1] [,2] [,3] [,4] [,5]\n",
       "[1,] 1    2    3    4    5   \n",
       "[2,] 5    4    3    2    1   \n",
       "[3,] 5    6    7    8    9   "
      ]
     },
     "metadata": {},
     "output_type": "display_data"
    }
   ],
   "source": [
    "m <- cbind(1:5, 5:1, 5:9)  # Bind 3 vectors as columns, 5x3 matrix\n",
    "m\n",
    "m <- rbind(1:5, 5:1, 5:9)  # Bind 3 vectors as rows, 3x5 matrix\n",
    "m"
   ]
  },
  {
   "cell_type": "markdown",
   "metadata": {},
   "source": [
    "<div class=\"alert alert-success\">\n",
    "Selecting matrix elements:\n",
    "</div>"
   ]
  },
  {
   "cell_type": "code",
   "execution_count": 4,
   "metadata": {
    "collapsed": false
   },
   "outputs": [
    {
     "data": {
      "text/html": [
       "<table>\n",
       "<tbody>\n",
       "\t<tr><td>1</td><td>1</td><td>1</td><td>1</td><td>1</td><td>1</td><td>1</td></tr>\n",
       "\t<tr><td>2</td><td>2</td><td>2</td><td>2</td><td>2</td><td>2</td><td>2</td></tr>\n",
       "\t<tr><td>3</td><td>3</td><td>3</td><td>3</td><td>3</td><td>3</td><td>3</td></tr>\n",
       "\t<tr><td>4</td><td>4</td><td>4</td><td>4</td><td>4</td><td>4</td><td>4</td></tr>\n",
       "\t<tr><td>5</td><td>5</td><td>5</td><td>5</td><td>5</td><td>5</td><td>5</td></tr>\n",
       "\t<tr><td>6</td><td>6</td><td>6</td><td>6</td><td>6</td><td>6</td><td>6</td></tr>\n",
       "\t<tr><td>7</td><td>7</td><td>7</td><td>7</td><td>7</td><td>7</td><td>7</td></tr>\n",
       "</tbody>\n",
       "</table>\n"
      ],
      "text/latex": [
       "\\begin{tabular}{lllllll}\n",
       "\t 1 & 1 & 1 & 1 & 1 & 1 & 1\\\\\n",
       "\t 2 & 2 & 2 & 2 & 2 & 2 & 2\\\\\n",
       "\t 3 & 3 & 3 & 3 & 3 & 3 & 3\\\\\n",
       "\t 4 & 4 & 4 & 4 & 4 & 4 & 4\\\\\n",
       "\t 5 & 5 & 5 & 5 & 5 & 5 & 5\\\\\n",
       "\t 6 & 6 & 6 & 6 & 6 & 6 & 6\\\\\n",
       "\t 7 & 7 & 7 & 7 & 7 & 7 & 7\\\\\n",
       "\\end{tabular}\n"
      ],
      "text/markdown": [
       "\n",
       "| 1 | 1 | 1 | 1 | 1 | 1 | 1 | \n",
       "| 2 | 2 | 2 | 2 | 2 | 2 | 2 | \n",
       "| 3 | 3 | 3 | 3 | 3 | 3 | 3 | \n",
       "| 4 | 4 | 4 | 4 | 4 | 4 | 4 | \n",
       "| 5 | 5 | 5 | 5 | 5 | 5 | 5 | \n",
       "| 6 | 6 | 6 | 6 | 6 | 6 | 6 | \n",
       "| 7 | 7 | 7 | 7 | 7 | 7 | 7 | \n",
       "\n",
       "\n"
      ],
      "text/plain": [
       "     [,1] [,2] [,3] [,4] [,5] [,6] [,7]\n",
       "[1,] 1    1    1    1    1    1    1   \n",
       "[2,] 2    2    2    2    2    2    2   \n",
       "[3,] 3    3    3    3    3    3    3   \n",
       "[4,] 4    4    4    4    4    4    4   \n",
       "[5,] 5    5    5    5    5    5    5   \n",
       "[6,] 6    6    6    6    6    6    6   \n",
       "[7,] 7    7    7    7    7    7    7   "
      ]
     },
     "metadata": {},
     "output_type": "display_data"
    },
    {
     "data": {
      "text/html": [
       "'matrix'"
      ],
      "text/latex": [
       "'matrix'"
      ],
      "text/markdown": [
       "'matrix'"
      ],
      "text/plain": [
       "[1] \"matrix\""
      ]
     },
     "metadata": {},
     "output_type": "display_data"
    },
    {
     "data": {
      "text/html": [
       "2"
      ],
      "text/latex": [
       "2"
      ],
      "text/markdown": [
       "2"
      ],
      "text/plain": [
       "[1] 2"
      ]
     },
     "metadata": {},
     "output_type": "display_data"
    },
    {
     "data": {
      "text/html": [
       "<ol class=list-inline>\n",
       "\t<li>2</li>\n",
       "\t<li>2</li>\n",
       "\t<li>2</li>\n",
       "\t<li>2</li>\n",
       "\t<li>2</li>\n",
       "\t<li>2</li>\n",
       "\t<li>2</li>\n",
       "</ol>\n"
      ],
      "text/latex": [
       "\\begin{enumerate*}\n",
       "\\item 2\n",
       "\\item 2\n",
       "\\item 2\n",
       "\\item 2\n",
       "\\item 2\n",
       "\\item 2\n",
       "\\item 2\n",
       "\\end{enumerate*}\n"
      ],
      "text/markdown": [
       "1. 2\n",
       "2. 2\n",
       "3. 2\n",
       "4. 2\n",
       "5. 2\n",
       "6. 2\n",
       "7. 2\n",
       "\n",
       "\n"
      ],
      "text/plain": [
       "[1] 2 2 2 2 2 2 2"
      ]
     },
     "metadata": {},
     "output_type": "display_data"
    },
    {
     "data": {
      "text/html": [
       "<ol class=list-inline>\n",
       "\t<li>1</li>\n",
       "\t<li>2</li>\n",
       "\t<li>3</li>\n",
       "\t<li>4</li>\n",
       "\t<li>5</li>\n",
       "\t<li>6</li>\n",
       "\t<li>7</li>\n",
       "</ol>\n"
      ],
      "text/latex": [
       "\\begin{enumerate*}\n",
       "\\item 1\n",
       "\\item 2\n",
       "\\item 3\n",
       "\\item 4\n",
       "\\item 5\n",
       "\\item 6\n",
       "\\item 7\n",
       "\\end{enumerate*}\n"
      ],
      "text/markdown": [
       "1. 1\n",
       "2. 2\n",
       "3. 3\n",
       "4. 4\n",
       "5. 5\n",
       "6. 6\n",
       "7. 7\n",
       "\n",
       "\n"
      ],
      "text/plain": [
       "[1] 1 2 3 4 5 6 7"
      ]
     },
     "metadata": {},
     "output_type": "display_data"
    },
    {
     "data": {
      "text/html": [
       "<table>\n",
       "<tbody>\n",
       "\t<tr><td>1</td><td>1</td><td>1</td></tr>\n",
       "\t<tr><td>2</td><td>2</td><td>2</td></tr>\n",
       "</tbody>\n",
       "</table>\n"
      ],
      "text/latex": [
       "\\begin{tabular}{lll}\n",
       "\t 1 & 1 & 1\\\\\n",
       "\t 2 & 2 & 2\\\\\n",
       "\\end{tabular}\n"
      ],
      "text/markdown": [
       "\n",
       "| 1 | 1 | 1 | \n",
       "| 2 | 2 | 2 | \n",
       "\n",
       "\n"
      ],
      "text/plain": [
       "     [,1] [,2] [,3]\n",
       "[1,] 1    1    1   \n",
       "[2,] 2    2    2   "
      ]
     },
     "metadata": {},
     "output_type": "display_data"
    },
    {
     "data": {
      "text/html": [
       "<table>\n",
       "<tbody>\n",
       "\t<tr><td>2</td><td>2</td><td>2</td><td>2</td><td>2</td><td>2</td><td>2</td></tr>\n",
       "\t<tr><td>3</td><td>3</td><td>3</td><td>3</td><td>3</td><td>3</td><td>3</td></tr>\n",
       "\t<tr><td>4</td><td>4</td><td>4</td><td>4</td><td>4</td><td>4</td><td>4</td></tr>\n",
       "\t<tr><td>5</td><td>5</td><td>5</td><td>5</td><td>5</td><td>5</td><td>5</td></tr>\n",
       "\t<tr><td>6</td><td>6</td><td>6</td><td>6</td><td>6</td><td>6</td><td>6</td></tr>\n",
       "\t<tr><td>7</td><td>7</td><td>7</td><td>7</td><td>7</td><td>7</td><td>7</td></tr>\n",
       "</tbody>\n",
       "</table>\n"
      ],
      "text/latex": [
       "\\begin{tabular}{lllllll}\n",
       "\t 2 & 2 & 2 & 2 & 2 & 2 & 2\\\\\n",
       "\t 3 & 3 & 3 & 3 & 3 & 3 & 3\\\\\n",
       "\t 4 & 4 & 4 & 4 & 4 & 4 & 4\\\\\n",
       "\t 5 & 5 & 5 & 5 & 5 & 5 & 5\\\\\n",
       "\t 6 & 6 & 6 & 6 & 6 & 6 & 6\\\\\n",
       "\t 7 & 7 & 7 & 7 & 7 & 7 & 7\\\\\n",
       "\\end{tabular}\n"
      ],
      "text/markdown": [
       "\n",
       "| 2 | 2 | 2 | 2 | 2 | 2 | 2 | \n",
       "| 3 | 3 | 3 | 3 | 3 | 3 | 3 | \n",
       "| 4 | 4 | 4 | 4 | 4 | 4 | 4 | \n",
       "| 5 | 5 | 5 | 5 | 5 | 5 | 5 | \n",
       "| 6 | 6 | 6 | 6 | 6 | 6 | 6 | \n",
       "| 7 | 7 | 7 | 7 | 7 | 7 | 7 | \n",
       "\n",
       "\n"
      ],
      "text/plain": [
       "     [,1] [,2] [,3] [,4] [,5] [,6] [,7]\n",
       "[1,] 2    2    2    2    2    2    2   \n",
       "[2,] 3    3    3    3    3    3    3   \n",
       "[3,] 4    4    4    4    4    4    4   \n",
       "[4,] 5    5    5    5    5    5    5   \n",
       "[5,] 6    6    6    6    6    6    6   \n",
       "[6,] 7    7    7    7    7    7    7   "
      ]
     },
     "metadata": {},
     "output_type": "display_data"
    }
   ],
   "source": [
    "m <- matrix(1:7,7,7)\n",
    "m\n",
    "class(m)\n",
    "\n",
    "m[2,3]  # Matrix m, row 2, column 3 - a single cell\n",
    "\n",
    "m[2,]   # The whole second row of m as a vector\n",
    "\n",
    "m[,2]   # The whole second column of m as a vector\n",
    "\n",
    "m[1:2,4:6] # submatrix: rows 1 and 2, columns 4, 5 and 6\n",
    "\n",
    "m[-1,]     # all rows *except* the first one"
   ]
  },
  {
   "cell_type": "markdown",
   "metadata": {},
   "source": [
    "<div class=\"alert alert-success\">\n",
    "Other operations with matrices:\n",
    "</div>"
   ]
  },
  {
   "cell_type": "code",
   "execution_count": 5,
   "metadata": {
    "collapsed": false
   },
   "outputs": [
    {
     "data": {
      "text/html": [
       "<ol class=list-inline>\n",
       "\t<li>TRUE</li>\n",
       "\t<li>FALSE</li>\n",
       "\t<li>FALSE</li>\n",
       "\t<li>FALSE</li>\n",
       "\t<li>FALSE</li>\n",
       "\t<li>FALSE</li>\n",
       "\t<li>FALSE</li>\n",
       "</ol>\n"
      ],
      "text/latex": [
       "\\begin{enumerate*}\n",
       "\\item TRUE\n",
       "\\item FALSE\n",
       "\\item FALSE\n",
       "\\item FALSE\n",
       "\\item FALSE\n",
       "\\item FALSE\n",
       "\\item FALSE\n",
       "\\end{enumerate*}\n"
      ],
      "text/markdown": [
       "1. TRUE\n",
       "2. FALSE\n",
       "3. FALSE\n",
       "4. FALSE\n",
       "5. FALSE\n",
       "6. FALSE\n",
       "7. FALSE\n",
       "\n",
       "\n"
      ],
      "text/plain": [
       "[1]  TRUE FALSE FALSE FALSE FALSE FALSE FALSE"
      ]
     },
     "metadata": {},
     "output_type": "display_data"
    },
    {
     "data": {
      "text/html": [
       "<table>\n",
       "<tbody>\n",
       "\t<tr><td>FALSE</td><td>FALSE</td><td>FALSE</td><td>FALSE</td><td>FALSE</td><td>FALSE</td><td>FALSE</td></tr>\n",
       "\t<tr><td>FALSE</td><td>FALSE</td><td>FALSE</td><td>FALSE</td><td>FALSE</td><td>FALSE</td><td>FALSE</td></tr>\n",
       "\t<tr><td>FALSE</td><td>FALSE</td><td>FALSE</td><td>FALSE</td><td>FALSE</td><td>FALSE</td><td>FALSE</td></tr>\n",
       "\t<tr><td> TRUE</td><td> TRUE</td><td> TRUE</td><td> TRUE</td><td> TRUE</td><td> TRUE</td><td> TRUE</td></tr>\n",
       "\t<tr><td> TRUE</td><td> TRUE</td><td> TRUE</td><td> TRUE</td><td> TRUE</td><td> TRUE</td><td> TRUE</td></tr>\n",
       "\t<tr><td> TRUE</td><td> TRUE</td><td> TRUE</td><td> TRUE</td><td> TRUE</td><td> TRUE</td><td> TRUE</td></tr>\n",
       "\t<tr><td> TRUE</td><td> TRUE</td><td> TRUE</td><td> TRUE</td><td> TRUE</td><td> TRUE</td><td> TRUE</td></tr>\n",
       "</tbody>\n",
       "</table>\n"
      ],
      "text/latex": [
       "\\begin{tabular}{lllllll}\n",
       "\t FALSE & FALSE & FALSE & FALSE & FALSE & FALSE & FALSE\\\\\n",
       "\t FALSE & FALSE & FALSE & FALSE & FALSE & FALSE & FALSE\\\\\n",
       "\t FALSE & FALSE & FALSE & FALSE & FALSE & FALSE & FALSE\\\\\n",
       "\t  TRUE &  TRUE &  TRUE &  TRUE &  TRUE &  TRUE &  TRUE\\\\\n",
       "\t  TRUE &  TRUE &  TRUE &  TRUE &  TRUE &  TRUE &  TRUE\\\\\n",
       "\t  TRUE &  TRUE &  TRUE &  TRUE &  TRUE &  TRUE &  TRUE\\\\\n",
       "\t  TRUE &  TRUE &  TRUE &  TRUE &  TRUE &  TRUE &  TRUE\\\\\n",
       "\\end{tabular}\n"
      ],
      "text/markdown": [
       "\n",
       "| FALSE | FALSE | FALSE | FALSE | FALSE | FALSE | FALSE | \n",
       "| FALSE | FALSE | FALSE | FALSE | FALSE | FALSE | FALSE | \n",
       "| FALSE | FALSE | FALSE | FALSE | FALSE | FALSE | FALSE | \n",
       "|  TRUE |  TRUE |  TRUE |  TRUE |  TRUE |  TRUE |  TRUE | \n",
       "|  TRUE |  TRUE |  TRUE |  TRUE |  TRUE |  TRUE |  TRUE | \n",
       "|  TRUE |  TRUE |  TRUE |  TRUE |  TRUE |  TRUE |  TRUE | \n",
       "|  TRUE |  TRUE |  TRUE |  TRUE |  TRUE |  TRUE |  TRUE | \n",
       "\n",
       "\n"
      ],
      "text/plain": [
       "     [,1]  [,2]  [,3]  [,4]  [,5]  [,6]  [,7] \n",
       "[1,] FALSE FALSE FALSE FALSE FALSE FALSE FALSE\n",
       "[2,] FALSE FALSE FALSE FALSE FALSE FALSE FALSE\n",
       "[3,] FALSE FALSE FALSE FALSE FALSE FALSE FALSE\n",
       "[4,]  TRUE  TRUE  TRUE  TRUE  TRUE  TRUE  TRUE\n",
       "[5,]  TRUE  TRUE  TRUE  TRUE  TRUE  TRUE  TRUE\n",
       "[6,]  TRUE  TRUE  TRUE  TRUE  TRUE  TRUE  TRUE\n",
       "[7,]  TRUE  TRUE  TRUE  TRUE  TRUE  TRUE  TRUE"
      ]
     },
     "metadata": {},
     "output_type": "display_data"
    },
    {
     "data": {
      "text/html": [
       "<ol class=list-inline>\n",
       "\t<li>4</li>\n",
       "\t<li>5</li>\n",
       "\t<li>6</li>\n",
       "\t<li>7</li>\n",
       "\t<li>4</li>\n",
       "\t<li>5</li>\n",
       "\t<li>6</li>\n",
       "\t<li>7</li>\n",
       "\t<li>4</li>\n",
       "\t<li>5</li>\n",
       "\t<li>6</li>\n",
       "\t<li>7</li>\n",
       "\t<li>4</li>\n",
       "\t<li>5</li>\n",
       "\t<li>6</li>\n",
       "\t<li>7</li>\n",
       "\t<li>4</li>\n",
       "\t<li>5</li>\n",
       "\t<li>6</li>\n",
       "\t<li>7</li>\n",
       "\t<li>4</li>\n",
       "\t<li>5</li>\n",
       "\t<li>6</li>\n",
       "\t<li>7</li>\n",
       "\t<li>4</li>\n",
       "\t<li>5</li>\n",
       "\t<li>6</li>\n",
       "\t<li>7</li>\n",
       "</ol>\n"
      ],
      "text/latex": [
       "\\begin{enumerate*}\n",
       "\\item 4\n",
       "\\item 5\n",
       "\\item 6\n",
       "\\item 7\n",
       "\\item 4\n",
       "\\item 5\n",
       "\\item 6\n",
       "\\item 7\n",
       "\\item 4\n",
       "\\item 5\n",
       "\\item 6\n",
       "\\item 7\n",
       "\\item 4\n",
       "\\item 5\n",
       "\\item 6\n",
       "\\item 7\n",
       "\\item 4\n",
       "\\item 5\n",
       "\\item 6\n",
       "\\item 7\n",
       "\\item 4\n",
       "\\item 5\n",
       "\\item 6\n",
       "\\item 7\n",
       "\\item 4\n",
       "\\item 5\n",
       "\\item 6\n",
       "\\item 7\n",
       "\\end{enumerate*}\n"
      ],
      "text/markdown": [
       "1. 4\n",
       "2. 5\n",
       "3. 6\n",
       "4. 7\n",
       "5. 4\n",
       "6. 5\n",
       "7. 6\n",
       "8. 7\n",
       "9. 4\n",
       "10. 5\n",
       "11. 6\n",
       "12. 7\n",
       "13. 4\n",
       "14. 5\n",
       "15. 6\n",
       "16. 7\n",
       "17. 4\n",
       "18. 5\n",
       "19. 6\n",
       "20. 7\n",
       "21. 4\n",
       "22. 5\n",
       "23. 6\n",
       "24. 7\n",
       "25. 4\n",
       "26. 5\n",
       "27. 6\n",
       "28. 7\n",
       "\n",
       "\n"
      ],
      "text/plain": [
       " [1] 4 5 6 7 4 5 6 7 4 5 6 7 4 5 6 7 4 5 6 7 4 5 6 7 4 5 6 7"
      ]
     },
     "metadata": {},
     "output_type": "display_data"
    },
    {
     "data": {
      "text/html": [
       "'integer'"
      ],
      "text/latex": [
       "'integer'"
      ],
      "text/markdown": [
       "'integer'"
      ],
      "text/plain": [
       "[1] \"integer\""
      ]
     },
     "metadata": {},
     "output_type": "display_data"
    }
   ],
   "source": [
    "# Are elements in row 1 equivalent to corresponding \n",
    "# elements from column 1:\n",
    "\n",
    "m[1,]==m[,1] \n",
    "\n",
    "# A logical matrix: TRUE for m elements >3, FALSE otherwise:\n",
    "\n",
    "m>3 \n",
    "\n",
    "# Selects only TRUE elements - that is ones greater than 3:\n",
    "\n",
    "m[m>3]\n",
    "class(m[m>3])"
   ]
  },
  {
   "cell_type": "code",
   "execution_count": 6,
   "metadata": {
    "collapsed": false
   },
   "outputs": [
    {
     "data": {
      "text/html": [
       "<table>\n",
       "<tbody>\n",
       "\t<tr><td>1</td><td>2</td><td>3</td><td>4</td><td>5</td><td>6</td><td>7</td></tr>\n",
       "\t<tr><td>1</td><td>2</td><td>3</td><td>4</td><td>5</td><td>6</td><td>7</td></tr>\n",
       "\t<tr><td>1</td><td>2</td><td>3</td><td>4</td><td>5</td><td>6</td><td>7</td></tr>\n",
       "\t<tr><td>1</td><td>2</td><td>3</td><td>4</td><td>5</td><td>6</td><td>7</td></tr>\n",
       "\t<tr><td>1</td><td>2</td><td>3</td><td>4</td><td>5</td><td>6</td><td>7</td></tr>\n",
       "\t<tr><td>1</td><td>2</td><td>3</td><td>4</td><td>5</td><td>6</td><td>7</td></tr>\n",
       "\t<tr><td>1</td><td>2</td><td>3</td><td>4</td><td>5</td><td>6</td><td>7</td></tr>\n",
       "</tbody>\n",
       "</table>\n"
      ],
      "text/latex": [
       "\\begin{tabular}{lllllll}\n",
       "\t 1 & 2 & 3 & 4 & 5 & 6 & 7\\\\\n",
       "\t 1 & 2 & 3 & 4 & 5 & 6 & 7\\\\\n",
       "\t 1 & 2 & 3 & 4 & 5 & 6 & 7\\\\\n",
       "\t 1 & 2 & 3 & 4 & 5 & 6 & 7\\\\\n",
       "\t 1 & 2 & 3 & 4 & 5 & 6 & 7\\\\\n",
       "\t 1 & 2 & 3 & 4 & 5 & 6 & 7\\\\\n",
       "\t 1 & 2 & 3 & 4 & 5 & 6 & 7\\\\\n",
       "\\end{tabular}\n"
      ],
      "text/markdown": [
       "\n",
       "| 1 | 2 | 3 | 4 | 5 | 6 | 7 | \n",
       "| 1 | 2 | 3 | 4 | 5 | 6 | 7 | \n",
       "| 1 | 2 | 3 | 4 | 5 | 6 | 7 | \n",
       "| 1 | 2 | 3 | 4 | 5 | 6 | 7 | \n",
       "| 1 | 2 | 3 | 4 | 5 | 6 | 7 | \n",
       "| 1 | 2 | 3 | 4 | 5 | 6 | 7 | \n",
       "| 1 | 2 | 3 | 4 | 5 | 6 | 7 | \n",
       "\n",
       "\n"
      ],
      "text/plain": [
       "     [,1] [,2] [,3] [,4] [,5] [,6] [,7]\n",
       "[1,] 1    2    3    4    5    6    7   \n",
       "[2,] 1    2    3    4    5    6    7   \n",
       "[3,] 1    2    3    4    5    6    7   \n",
       "[4,] 1    2    3    4    5    6    7   \n",
       "[5,] 1    2    3    4    5    6    7   \n",
       "[6,] 1    2    3    4    5    6    7   \n",
       "[7,] 1    2    3    4    5    6    7   "
      ]
     },
     "metadata": {},
     "output_type": "display_data"
    },
    {
     "data": {
      "text/html": [
       "<table>\n",
       "<tbody>\n",
       "\t<tr><td>140</td><td>140</td><td>140</td><td>140</td><td>140</td><td>140</td><td>140</td></tr>\n",
       "\t<tr><td>140</td><td>140</td><td>140</td><td>140</td><td>140</td><td>140</td><td>140</td></tr>\n",
       "\t<tr><td>140</td><td>140</td><td>140</td><td>140</td><td>140</td><td>140</td><td>140</td></tr>\n",
       "\t<tr><td>140</td><td>140</td><td>140</td><td>140</td><td>140</td><td>140</td><td>140</td></tr>\n",
       "\t<tr><td>140</td><td>140</td><td>140</td><td>140</td><td>140</td><td>140</td><td>140</td></tr>\n",
       "\t<tr><td>140</td><td>140</td><td>140</td><td>140</td><td>140</td><td>140</td><td>140</td></tr>\n",
       "\t<tr><td>140</td><td>140</td><td>140</td><td>140</td><td>140</td><td>140</td><td>140</td></tr>\n",
       "</tbody>\n",
       "</table>\n"
      ],
      "text/latex": [
       "\\begin{tabular}{lllllll}\n",
       "\t 140 & 140 & 140 & 140 & 140 & 140 & 140\\\\\n",
       "\t 140 & 140 & 140 & 140 & 140 & 140 & 140\\\\\n",
       "\t 140 & 140 & 140 & 140 & 140 & 140 & 140\\\\\n",
       "\t 140 & 140 & 140 & 140 & 140 & 140 & 140\\\\\n",
       "\t 140 & 140 & 140 & 140 & 140 & 140 & 140\\\\\n",
       "\t 140 & 140 & 140 & 140 & 140 & 140 & 140\\\\\n",
       "\t 140 & 140 & 140 & 140 & 140 & 140 & 140\\\\\n",
       "\\end{tabular}\n"
      ],
      "text/markdown": [
       "\n",
       "| 140 | 140 | 140 | 140 | 140 | 140 | 140 | \n",
       "| 140 | 140 | 140 | 140 | 140 | 140 | 140 | \n",
       "| 140 | 140 | 140 | 140 | 140 | 140 | 140 | \n",
       "| 140 | 140 | 140 | 140 | 140 | 140 | 140 | \n",
       "| 140 | 140 | 140 | 140 | 140 | 140 | 140 | \n",
       "| 140 | 140 | 140 | 140 | 140 | 140 | 140 | \n",
       "| 140 | 140 | 140 | 140 | 140 | 140 | 140 | \n",
       "\n",
       "\n"
      ],
      "text/plain": [
       "     [,1] [,2] [,3] [,4] [,5] [,6] [,7]\n",
       "[1,] 140  140  140  140  140  140  140 \n",
       "[2,] 140  140  140  140  140  140  140 \n",
       "[3,] 140  140  140  140  140  140  140 \n",
       "[4,] 140  140  140  140  140  140  140 \n",
       "[5,] 140  140  140  140  140  140  140 \n",
       "[6,] 140  140  140  140  140  140  140 \n",
       "[7,] 140  140  140  140  140  140  140 "
      ]
     },
     "metadata": {},
     "output_type": "display_data"
    },
    {
     "data": {
      "text/html": [
       "<table>\n",
       "<tbody>\n",
       "\t<tr><td>1 </td><td>4 </td><td>9 </td><td>16</td><td>25</td><td>36</td><td>49</td></tr>\n",
       "\t<tr><td>1 </td><td>4 </td><td>9 </td><td>16</td><td>25</td><td>36</td><td>49</td></tr>\n",
       "\t<tr><td>1 </td><td>4 </td><td>9 </td><td>16</td><td>25</td><td>36</td><td>49</td></tr>\n",
       "\t<tr><td>1 </td><td>4 </td><td>9 </td><td>16</td><td>25</td><td>36</td><td>49</td></tr>\n",
       "\t<tr><td>1 </td><td>4 </td><td>9 </td><td>16</td><td>25</td><td>36</td><td>49</td></tr>\n",
       "\t<tr><td>1 </td><td>4 </td><td>9 </td><td>16</td><td>25</td><td>36</td><td>49</td></tr>\n",
       "\t<tr><td>1 </td><td>4 </td><td>9 </td><td>16</td><td>25</td><td>36</td><td>49</td></tr>\n",
       "</tbody>\n",
       "</table>\n"
      ],
      "text/latex": [
       "\\begin{tabular}{lllllll}\n",
       "\t 1  & 4  & 9  & 16 & 25 & 36 & 49\\\\\n",
       "\t 1  & 4  & 9  & 16 & 25 & 36 & 49\\\\\n",
       "\t 1  & 4  & 9  & 16 & 25 & 36 & 49\\\\\n",
       "\t 1  & 4  & 9  & 16 & 25 & 36 & 49\\\\\n",
       "\t 1  & 4  & 9  & 16 & 25 & 36 & 49\\\\\n",
       "\t 1  & 4  & 9  & 16 & 25 & 36 & 49\\\\\n",
       "\t 1  & 4  & 9  & 16 & 25 & 36 & 49\\\\\n",
       "\\end{tabular}\n"
      ],
      "text/markdown": [
       "\n",
       "| 1  | 4  | 9  | 16 | 25 | 36 | 49 | \n",
       "| 1  | 4  | 9  | 16 | 25 | 36 | 49 | \n",
       "| 1  | 4  | 9  | 16 | 25 | 36 | 49 | \n",
       "| 1  | 4  | 9  | 16 | 25 | 36 | 49 | \n",
       "| 1  | 4  | 9  | 16 | 25 | 36 | 49 | \n",
       "| 1  | 4  | 9  | 16 | 25 | 36 | 49 | \n",
       "| 1  | 4  | 9  | 16 | 25 | 36 | 49 | \n",
       "\n",
       "\n"
      ],
      "text/plain": [
       "     [,1] [,2] [,3] [,4] [,5] [,6] [,7]\n",
       "[1,] 1    4    9    16   25   36   49  \n",
       "[2,] 1    4    9    16   25   36   49  \n",
       "[3,] 1    4    9    16   25   36   49  \n",
       "[4,] 1    4    9    16   25   36   49  \n",
       "[5,] 1    4    9    16   25   36   49  \n",
       "[6,] 1    4    9    16   25   36   49  \n",
       "[7,] 1    4    9    16   25   36   49  "
      ]
     },
     "metadata": {},
     "output_type": "display_data"
    }
   ],
   "source": [
    "t(m)          # Transpose m     \n",
    "\n",
    "m <- t(m)     # Assign m the transposed m\n",
    "\n",
    "m %*% t(m)    # %*% does matrix multiplication\n",
    "\n",
    "m * m         # * does element-wise multiplication\n",
    "\n"
   ]
  },
  {
   "cell_type": "markdown",
   "metadata": {},
   "source": [
    "<div class=\"alert alert-success\">\n",
    "Arrays are used when we have more than 2 dimensions. \n",
    "We can create them using the array() function:\n",
    "</div>"
   ]
  },
  {
   "cell_type": "code",
   "execution_count": 7,
   "metadata": {
    "collapsed": false
   },
   "outputs": [
    {
     "data": {
      "text/html": [
       "<ol class=list-inline>\n",
       "\t<li>1</li>\n",
       "\t<li>2</li>\n",
       "\t<li>3</li>\n",
       "\t<li>4</li>\n",
       "\t<li>5</li>\n",
       "\t<li>6</li>\n",
       "\t<li>7</li>\n",
       "\t<li>8</li>\n",
       "\t<li>9</li>\n",
       "\t<li>10</li>\n",
       "\t<li>11</li>\n",
       "\t<li>12</li>\n",
       "\t<li>13</li>\n",
       "\t<li>14</li>\n",
       "\t<li>15</li>\n",
       "\t<li>16</li>\n",
       "\t<li>17</li>\n",
       "\t<li>18</li>\n",
       "</ol>\n"
      ],
      "text/latex": [
       "\\begin{enumerate*}\n",
       "\\item 1\n",
       "\\item 2\n",
       "\\item 3\n",
       "\\item 4\n",
       "\\item 5\n",
       "\\item 6\n",
       "\\item 7\n",
       "\\item 8\n",
       "\\item 9\n",
       "\\item 10\n",
       "\\item 11\n",
       "\\item 12\n",
       "\\item 13\n",
       "\\item 14\n",
       "\\item 15\n",
       "\\item 16\n",
       "\\item 17\n",
       "\\item 18\n",
       "\\end{enumerate*}\n"
      ],
      "text/markdown": [
       "1. 1\n",
       "2. 2\n",
       "3. 3\n",
       "4. 4\n",
       "5. 5\n",
       "6. 6\n",
       "7. 7\n",
       "8. 8\n",
       "9. 9\n",
       "10. 10\n",
       "11. 11\n",
       "12. 12\n",
       "13. 13\n",
       "14. 14\n",
       "15. 15\n",
       "16. 16\n",
       "17. 17\n",
       "18. 18\n",
       "\n",
       "\n"
      ],
      "text/plain": [
       ", , 1\n",
       "\n",
       "     [,1] [,2] [,3]\n",
       "[1,]    1    4    7\n",
       "[2,]    2    5    8\n",
       "[3,]    3    6    9\n",
       "\n",
       ", , 2\n",
       "\n",
       "     [,1] [,2] [,3]\n",
       "[1,]   10   13   16\n",
       "[2,]   11   14   17\n",
       "[3,]   12   15   18\n"
      ]
     },
     "metadata": {},
     "output_type": "display_data"
    },
    {
     "data": {
      "text/html": [
       "<ol class=list-inline>\n",
       "\t<li>1</li>\n",
       "\t<li>2</li>\n",
       "\t<li>3</li>\n",
       "\t<li>4</li>\n",
       "\t<li>5</li>\n",
       "\t<li>6</li>\n",
       "\t<li>7</li>\n",
       "\t<li>8</li>\n",
       "\t<li>9</li>\n",
       "\t<li>10</li>\n",
       "\t<li>11</li>\n",
       "\t<li>12</li>\n",
       "\t<li>13</li>\n",
       "\t<li>14</li>\n",
       "\t<li>15</li>\n",
       "\t<li>16</li>\n",
       "\t<li>17</li>\n",
       "\t<li>18</li>\n",
       "</ol>\n"
      ],
      "text/latex": [
       "\\begin{enumerate*}\n",
       "\\item 1\n",
       "\\item 2\n",
       "\\item 3\n",
       "\\item 4\n",
       "\\item 5\n",
       "\\item 6\n",
       "\\item 7\n",
       "\\item 8\n",
       "\\item 9\n",
       "\\item 10\n",
       "\\item 11\n",
       "\\item 12\n",
       "\\item 13\n",
       "\\item 14\n",
       "\\item 15\n",
       "\\item 16\n",
       "\\item 17\n",
       "\\item 18\n",
       "\\end{enumerate*}\n"
      ],
      "text/markdown": [
       "1. 1\n",
       "2. 2\n",
       "3. 3\n",
       "4. 4\n",
       "5. 5\n",
       "6. 6\n",
       "7. 7\n",
       "8. 8\n",
       "9. 9\n",
       "10. 10\n",
       "11. 11\n",
       "12. 12\n",
       "13. 13\n",
       "14. 14\n",
       "15. 15\n",
       "16. 16\n",
       "17. 17\n",
       "18. 18\n",
       "\n",
       "\n"
      ],
      "text/plain": [
       ", , 1\n",
       "\n",
       "     [,1] [,2] [,3]\n",
       "[1,]    1    4    7\n",
       "[2,]    2    5    8\n",
       "[3,]    3    6    9\n",
       "\n",
       ", , 2\n",
       "\n",
       "     [,1] [,2] [,3]\n",
       "[1,]   10   13   16\n",
       "[2,]   11   14   17\n",
       "[3,]   12   15   18\n"
      ]
     },
     "metadata": {},
     "output_type": "display_data"
    }
   ],
   "source": [
    "a <- array(data=1:18,dim=c(3,3,2)) # 3d with dimensions 3x3x2\n",
    "a\n",
    "a <- array(1:18,c(3,3,2))          # the same array\n",
    "a"
   ]
  },
  {
   "cell_type": "code",
   "execution_count": null,
   "metadata": {
    "collapsed": true
   },
   "outputs": [],
   "source": []
  }
 ],
 "metadata": {
  "kernelspec": {
   "display_name": "R",
   "language": "R",
   "name": "ir"
  },
  "language_info": {
   "codemirror_mode": "r",
   "file_extension": ".r",
   "mimetype": "text/x-r-source",
   "name": "R",
   "pygments_lexer": "r",
   "version": "3.3.2"
  }
 },
 "nbformat": 4,
 "nbformat_minor": 2
}

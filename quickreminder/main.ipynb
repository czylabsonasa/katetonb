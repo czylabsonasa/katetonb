{
 "cells": [
  {
   "cell_type": "markdown",
   "metadata": {},
   "source": [
    "<style>\n",
    "body {\n",
    "    counter-reset: h1\n",
    "}\n",
    "\n",
    "h1 {\n",
    "    counter-reset: h2\n",
    "}\n",
    "\n",
    "h2 {\n",
    "    counter-reset: h3\n",
    "}\n",
    "\n",
    "h3 {\n",
    "    counter-reset: h4\n",
    "}\n",
    "\n",
    "h1:before {\n",
    "    counter-increment: h1;\n",
    "    content: counter(h1) \". \"\n",
    "}\n",
    "\n",
    "h2:before {\n",
    "    counter-increment: h2;\n",
    "    content: counter(h1) \".\" counter(h2) \". \"\n",
    "}\n",
    "\n",
    "h3:before {\n",
    "    counter-increment: h3;\n",
    "    content: counter(h1) \".\" counter(h2) \".\" counter(h3) \". \"\n",
    "}\n",
    "\n",
    "h4:before {\n",
    "    counter-increment: h4;\n",
    "    content: counter(h1) \".\" counter(h2) \".\" \n",
    "    counter(h3) \".\" counter(h4) \". \"\n",
    "}\n",
    "\n",
    "</style>"
   ]
  },
  {
   "cell_type": "markdown",
   "metadata": {},
   "source": [
    "### Original document: http://kateto.net/networks-r-igraph"
   ]
  },
  {
   "cell_type": "markdown",
   "metadata": {},
   "source": [
    "# A quick reminder of R basics<br>\n",
    "<div class=\"alert alert-success\">\n",
    "Before we start working with networks, we will go through a quick introduction/reminder of some simple tasks and principles in R.\n",
    "</div>"
   ]
  },
  {
   "cell_type": "markdown",
   "metadata": {},
   "source": [
    "## Assignment<br>\n",
    "<div class=\"alert alert-success\">\n",
    "You can assign a value to an object using \n",
    "<ul>\n",
    "<li> assign(), \n",
    "<li> <-\n",
    "<li>=\n",
    "</ul>\n",
    "<a href=\"assignment.ipynb\">continue</a>\n",
    "</div>\n"
   ]
  },
  {
   "cell_type": "markdown",
   "metadata": {},
   "source": [
    "## Value comparisons<br>\n",
    "<div class=\"alert alert-success\">\n",
    "We can use the standard operators <, >, <=, >=, ==(equality) and != (inequality). Comparisons return Boolean values: TRUE or FALSE (often abbreviated to just T and F).\n",
    "<a href=\"valuecomparisons.ipynb\">continue</a>\n",
    "</div>\n"
   ]
  },
  {
   "cell_type": "markdown",
   "metadata": {},
   "source": [
    "## Special constants <br>\n",
    "<div class=\"alert alert-block  alert-success\">\n",
    "Special constants include:\n",
    "<ul>\n",
    "       <li>NA for missing or undefined data</li>\n",
    "       <li>NULL for empty object (e.g. null/empty lists)</li>\n",
    "       <li>Inf and -Inf for positive and negative infinity</li>\n",
    "       <li>NaN for results that cannot be reasonably defined</li>\n",
    "</ul>\n",
    "<a href=\"specialconstants.ipynb\">continue</a>\n",
    "</div>\n"
   ]
  },
  {
   "cell_type": "markdown",
   "metadata": {},
   "source": [
    "## Vectors <br>\n",
    "\n",
    "<div class=\"alert alert-success\">\n",
    "Vectors can be constructed by combining their elements with the important R function c().\n",
    "<a href=\"vectors.ipynb\">continue</a>\n",
    "</div>"
   ]
  },
  {
   "cell_type": "markdown",
   "metadata": {},
   "source": [
    "## Factors <br>\n",
    "<div class=\"alert alert-success\">\n",
    "Factors are used to store categorical data.<br>\n",
    "<a href=\"factors.ipynb\">continue</a>\n",
    "</div>"
   ]
  },
  {
   "cell_type": "markdown",
   "metadata": {},
   "source": [
    "## Matrices & Arrays <br>\n",
    "<div class=\"alert alert-success\">\n",
    "A matrix is a vector with dimensions:<br>\n",
    "<a href=\"matricesarrays.ipynb\">continue</a>\n",
    "</div>"
   ]
  },
  {
   "cell_type": "markdown",
   "metadata": {},
   "source": [
    "## Lists <br>\n",
    "<div class=\"alert alert-success\">\n",
    "Lists are collections of objects. A single list can contain all kinds of elements - character strings, numeric vectors, matrices, other lists, and so on. The elements of lists are often named for easier access.<br>\n",
    "<a href=\"lists.ipynb\">continue</a>\n",
    "</div>\n"
   ]
  },
  {
   "cell_type": "markdown",
   "metadata": {},
   "source": [
    "## Data Frames<br>\n",
    "\n",
    "<div class=\"alert alert-success\">\n",
    "The data frame is a special kind of list used for storing dataset tables...<br>\n",
    "<a href=\"dataframes.ipynb\">continue</a>\n",
    "</div>\n",
    "\n"
   ]
  },
  {
   "cell_type": "code",
   "execution_count": null,
   "metadata": {
    "collapsed": true
   },
   "outputs": [],
   "source": []
  }
 ],
 "metadata": {
  "kernelspec": {
   "display_name": "R",
   "language": "R",
   "name": "ir"
  },
  "language_info": {
   "codemirror_mode": "r",
   "file_extension": ".r",
   "mimetype": "text/x-r-source",
   "name": "R",
   "pygments_lexer": "r",
   "version": "3.3.2"
  }
 },
 "nbformat": 4,
 "nbformat_minor": 2
}

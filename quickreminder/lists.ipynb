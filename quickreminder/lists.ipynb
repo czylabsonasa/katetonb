{
 "cells": [
  {
   "cell_type": "markdown",
   "metadata": {},
   "source": [
    "## Lists<br>\n",
    "<div class=\"alert alert-success\">\n",
    "Lists are collections of objects. A single list can contain all kinds of elements - character strings, numeric vectors, matrices, other lists, and so on. The elements of lists are often named for easier access.\n",
    "</div>\n"
   ]
  },
  {
   "cell_type": "code",
   "execution_count": 1,
   "metadata": {
    "collapsed": false
   },
   "outputs": [
    {
     "ename": "ERROR",
     "evalue": "Error in eval(expr, envir, enclos): object 'v1' not found\n",
     "output_type": "error",
     "traceback": [
      "Error in eval(expr, envir, enclos): object 'v1' not found\nTraceback:\n"
     ]
    }
   ],
   "source": [
    "# A list with four components\n",
    "l1 <- list(boo=v1,foo=v2,moo=v3,zoo=\"Animals!\")  \n",
    "\n",
    "l2 <- list(v1,v2,v3,\"Animals!\")\n"
   ]
  },
  {
   "cell_type": "markdown",
   "metadata": {},
   "source": [
    "<div class=\"alert alert-success\">\n",
    "Create an empty list:\n",
    "</div>"
   ]
  },
  {
   "cell_type": "code",
   "execution_count": 2,
   "metadata": {
    "collapsed": true
   },
   "outputs": [],
   "source": [
    "l3 <- list()\n",
    "l4 <- NULL"
   ]
  },
  {
   "cell_type": "markdown",
   "metadata": {},
   "source": [
    "<div class=\"alert alert-success\">\n",
    "Accessing list elements:\n",
    "</div>\n"
   ]
  },
  {
   "cell_type": "code",
   "execution_count": 3,
   "metadata": {
    "collapsed": false
   },
   "outputs": [
    {
     "ename": "ERROR",
     "evalue": "Error in eval(expr, envir, enclos): object 'l1' not found\n",
     "output_type": "error",
     "traceback": [
      "Error in eval(expr, envir, enclos): object 'l1' not found\nTraceback:\n"
     ]
    }
   ],
   "source": [
    "l1[\"boo\"]   # Access boo with single brackets: \n",
    "            # this returns a list.\n",
    "\n",
    "l1[[\"boo\"]] # Access boo with double brackets: \n",
    "            # this returns the numeric vector\n",
    "\n",
    "l1[[1]]     # Returns the first component of the list, \n",
    "            # equivalent to above.\n",
    "\n",
    "l1$boo      # Named elements can be accessed with the $ operator, \n",
    "            # as with [[]]\n"
   ]
  },
  {
   "cell_type": "markdown",
   "metadata": {},
   "source": [
    "<div class=\"alert alert-success\">\n",
    "Adding more elements to a list:\n",
    "</div>\n",
    "\n"
   ]
  },
  {
   "cell_type": "code",
   "execution_count": 127,
   "metadata": {
    "collapsed": true
   },
   "outputs": [],
   "source": [
    "l3[[1]] <- 11 # add an element to the empty list l3\n",
    "\n",
    "l4[[3]] <- c(22, 23) # add a vector as element 3 in the empty list l4. "
   ]
  },
  {
   "cell_type": "markdown",
   "metadata": {},
   "source": [
    "<div class=\"alert alert-success\">\n",
    "Since we added element 3 to the list l4 above, elements 1 and 2 \n",
    "will be generated and empty (NULL).\n",
    "</div>\n",
    "\n"
   ]
  },
  {
   "cell_type": "code",
   "execution_count": 128,
   "metadata": {
    "collapsed": true
   },
   "outputs": [],
   "source": [
    "l1[[5]] <- \"More elements!\" # The list l1 had 4 elements, \n",
    "                            # we're adding a 5th here.\n",
    "\n",
    "l1[[8]] <- 1:11 \n"
   ]
  },
  {
   "cell_type": "markdown",
   "metadata": {},
   "source": [
    "<div class=\"alert alert-success\">\n",
    "We added an 8th element, but not 6th and 7th to the list l1 above. \n",
    "Elements number 6 and 7 will be created empty (NULL).\n"
   ]
  },
  {
   "cell_type": "code",
   "execution_count": 129,
   "metadata": {
    "collapsed": true
   },
   "outputs": [],
   "source": [
    "l1$Something <- \"A thing\"  # Adds a ninth element - \n",
    "                           # \"A thing\", named \"Something\"\n"
   ]
  }
 ],
 "metadata": {
  "kernelspec": {
   "display_name": "R",
   "language": "R",
   "name": "ir"
  },
  "language_info": {
   "codemirror_mode": "r",
   "file_extension": ".r",
   "mimetype": "text/x-r-source",
   "name": "R",
   "pygments_lexer": "r",
   "version": "3.3.2"
  }
 },
 "nbformat": 4,
 "nbformat_minor": 2
}

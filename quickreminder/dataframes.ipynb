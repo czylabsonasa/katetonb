{
 "cells": [
  {
   "cell_type": "markdown",
   "metadata": {},
   "source": [
    "# Data Frames<br>\n",
    "\n",
    "<div class=\"alert alert-success\">\n",
    "The data frame is a special kind of list used for storing dataset tables.\n",
    "Think of rows as cases, columns as variables. Each column is a vector or factor.\n",
    "Creating a dataframe:\n",
    "</div>"
   ]
  },
  {
   "cell_type": "code",
   "execution_count": 2,
   "metadata": {
    "collapsed": false
   },
   "outputs": [
    {
     "data": {
      "text/html": [
       "<ol class=list-inline>\n",
       "\t<li>John</li>\n",
       "\t<li>Jim</li>\n",
       "\t<li>Jane</li>\n",
       "\t<li>Jill</li>\n",
       "</ol>\n"
      ],
      "text/latex": [
       "\\begin{enumerate*}\n",
       "\\item John\n",
       "\\item Jim\n",
       "\\item Jane\n",
       "\\item Jill\n",
       "\\end{enumerate*}\n"
      ],
      "text/markdown": [
       "1. John\n",
       "2. Jim\n",
       "3. Jane\n",
       "4. Jill\n",
       "\n",
       "\n"
      ],
      "text/plain": [
       "[1] John Jim  Jane Jill\n",
       "Levels: Jane Jill Jim John"
      ]
     },
     "metadata": {},
     "output_type": "display_data"
    },
    {
     "data": {
      "text/html": [
       "'factor'"
      ],
      "text/latex": [
       "'factor'"
      ],
      "text/markdown": [
       "'factor'"
      ],
      "text/plain": [
       "[1] \"factor\""
      ]
     },
     "metadata": {},
     "output_type": "display_data"
    }
   ],
   "source": [
    "dfr1 <- data.frame( ID=1:4,\n",
    "\n",
    "                    FirstName=c(\"John\",\"Jim\",\"Jane\",\"Jill\"),\n",
    "\n",
    "                    Female=c(F,F,T,T), \n",
    "\n",
    "                    Age=c(22,33,44,55) )\n",
    "\n",
    "dfr1$FirstName   # Access the second column of dfr1. \n",
    "\n",
    "class(dfr1$FirstName)"
   ]
  },
  {
   "cell_type": "markdown",
   "metadata": {},
   "source": [
    "<div class=\"alert alert-success\">\n",
    "Notice that R thinks that 'dfr1$FirstName' is a categorical variable \n",
    "and so it’s treating it like a factor, not a character vector. \n",
    "Let’s get rid of the factor by telling R to treat \n",
    "‘FirstName’ as a vector:\n",
    "<br>"
   ]
  },
  {
   "cell_type": "code",
   "execution_count": 3,
   "metadata": {
    "collapsed": false
   },
   "outputs": [
    {
     "data": {
      "text/html": [
       "'character'"
      ],
      "text/latex": [
       "'character'"
      ],
      "text/markdown": [
       "'character'"
      ],
      "text/plain": [
       "[1] \"character\""
      ]
     },
     "metadata": {},
     "output_type": "display_data"
    }
   ],
   "source": [
    "dfr1$FirstName <- as.vector(dfr1$FirstName)\n",
    "class(dfr1$FirstName)"
   ]
  },
  {
   "cell_type": "markdown",
   "metadata": {},
   "source": [
    "<div class=\"alert alert-success\">\n",
    "Alternatively, you can tell R you don’t like factors \n",
    "from the start using 'stringsAsFactors=FALSE'\n",
    "<br>"
   ]
  },
  {
   "cell_type": "code",
   "execution_count": 5,
   "metadata": {
    "collapsed": false
   },
   "outputs": [
    {
     "data": {
      "text/html": [
       "'character'"
      ],
      "text/latex": [
       "'character'"
      ],
      "text/markdown": [
       "'character'"
      ],
      "text/plain": [
       "[1] \"character\""
      ]
     },
     "metadata": {},
     "output_type": "display_data"
    }
   ],
   "source": [
    "dfr2 <- data.frame(FirstName=c(\"John\",\"Jim\",\"Jane\",\"Jill\"), \n",
    "                   stringsAsFactors=F)\n",
    "\n",
    "class(dfr2$FirstName)   # Success: not a factor."
   ]
  },
  {
   "cell_type": "markdown",
   "metadata": {},
   "source": [
    "Access elements of the data frame:"
   ]
  },
  {
   "cell_type": "code",
   "execution_count": 9,
   "metadata": {
    "collapsed": false
   },
   "outputs": [
    {
     "data": {
      "text/html": [
       "<table>\n",
       "<thead><tr><th scope=col>ID</th><th scope=col>FirstName</th><th scope=col>Female</th><th scope=col>Age</th></tr></thead>\n",
       "<tbody>\n",
       "\t<tr><td>1    </td><td>John </td><td>FALSE</td><td>22   </td></tr>\n",
       "</tbody>\n",
       "</table>\n"
      ],
      "text/latex": [
       "\\begin{tabular}{r|llll}\n",
       " ID & FirstName & Female & Age\\\\\n",
       "\\hline\n",
       "\t 1     & John  & FALSE & 22   \\\\\n",
       "\\end{tabular}\n"
      ],
      "text/markdown": [
       "\n",
       "ID | FirstName | Female | Age | \n",
       "|---|\n",
       "| 1     | John  | FALSE | 22    | \n",
       "\n",
       "\n"
      ],
      "text/plain": [
       "  ID FirstName Female Age\n",
       "1 1  John      FALSE  22 "
      ]
     },
     "metadata": {},
     "output_type": "display_data"
    },
    {
     "data": {
      "text/html": [
       "<ol class=list-inline>\n",
       "\t<li>1</li>\n",
       "\t<li>2</li>\n",
       "\t<li>3</li>\n",
       "\t<li>4</li>\n",
       "</ol>\n"
      ],
      "text/latex": [
       "\\begin{enumerate*}\n",
       "\\item 1\n",
       "\\item 2\n",
       "\\item 3\n",
       "\\item 4\n",
       "\\end{enumerate*}\n"
      ],
      "text/markdown": [
       "1. 1\n",
       "2. 2\n",
       "3. 3\n",
       "4. 4\n",
       "\n",
       "\n"
      ],
      "text/plain": [
       "[1] 1 2 3 4"
      ]
     },
     "metadata": {},
     "output_type": "display_data"
    },
    {
     "data": {
      "text/html": [
       "<ol class=list-inline>\n",
       "\t<li>1</li>\n",
       "\t<li>2</li>\n",
       "\t<li>3</li>\n",
       "\t<li>4</li>\n",
       "</ol>\n"
      ],
      "text/latex": [
       "\\begin{enumerate*}\n",
       "\\item 1\n",
       "\\item 2\n",
       "\\item 3\n",
       "\\item 4\n",
       "\\end{enumerate*}\n"
      ],
      "text/markdown": [
       "1. 1\n",
       "2. 2\n",
       "3. 3\n",
       "4. 4\n",
       "\n",
       "\n"
      ],
      "text/plain": [
       "[1] 1 2 3 4"
      ]
     },
     "metadata": {},
     "output_type": "display_data"
    },
    {
     "data": {
      "text/html": [
       "<ol class=list-inline>\n",
       "\t<li>22</li>\n",
       "\t<li>33</li>\n",
       "\t<li>44</li>\n",
       "\t<li>55</li>\n",
       "</ol>\n"
      ],
      "text/latex": [
       "\\begin{enumerate*}\n",
       "\\item 22\n",
       "\\item 33\n",
       "\\item 44\n",
       "\\item 55\n",
       "\\end{enumerate*}\n"
      ],
      "text/markdown": [
       "1. 22\n",
       "2. 33\n",
       "3. 44\n",
       "4. 55\n",
       "\n",
       "\n"
      ],
      "text/plain": [
       "[1] 22 33 44 55"
      ]
     },
     "metadata": {},
     "output_type": "display_data"
    },
    {
     "data": {
      "text/html": [
       "<table>\n",
       "<thead><tr><th scope=col>Female</th><th scope=col>Age</th></tr></thead>\n",
       "<tbody>\n",
       "\t<tr><td>FALSE</td><td>22   </td></tr>\n",
       "\t<tr><td>FALSE</td><td>33   </td></tr>\n",
       "</tbody>\n",
       "</table>\n"
      ],
      "text/latex": [
       "\\begin{tabular}{r|ll}\n",
       " Female & Age\\\\\n",
       "\\hline\n",
       "\t FALSE & 22   \\\\\n",
       "\t FALSE & 33   \\\\\n",
       "\\end{tabular}\n"
      ],
      "text/markdown": [
       "\n",
       "Female | Age | \n",
       "|---|---|\n",
       "| FALSE | 22    | \n",
       "| FALSE | 33    | \n",
       "\n",
       "\n"
      ],
      "text/plain": [
       "  Female Age\n",
       "1 FALSE  22 \n",
       "2 FALSE  33 "
      ]
     },
     "metadata": {},
     "output_type": "display_data"
    },
    {
     "data": {
      "text/html": [
       "<table>\n",
       "<thead><tr><th></th><th scope=col>ID</th><th scope=col>FirstName</th><th scope=col>Female</th><th scope=col>Age</th></tr></thead>\n",
       "<tbody>\n",
       "\t<tr><th scope=row>1</th><td>1    </td><td>John </td><td>FALSE</td><td>22   </td></tr>\n",
       "\t<tr><th scope=row>3</th><td>3    </td><td>Jane </td><td> TRUE</td><td>44   </td></tr>\n",
       "</tbody>\n",
       "</table>\n"
      ],
      "text/latex": [
       "\\begin{tabular}{r|llll}\n",
       "  & ID & FirstName & Female & Age\\\\\n",
       "\\hline\n",
       "\t1 & 1     & John  & FALSE & 22   \\\\\n",
       "\t3 & 3     & Jane  &  TRUE & 44   \\\\\n",
       "\\end{tabular}\n"
      ],
      "text/markdown": [
       "\n",
       "| <!--/--> | ID | FirstName | Female | Age | \n",
       "|---|---|\n",
       "| 1 | 1     | John  | FALSE | 22    | \n",
       "| 3 | 3     | Jane  |  TRUE | 44    | \n",
       "\n",
       "\n"
      ],
      "text/plain": [
       "  ID FirstName Female Age\n",
       "1 1  John      FALSE  22 \n",
       "3 3  Jane       TRUE  44 "
      ]
     },
     "metadata": {},
     "output_type": "display_data"
    }
   ],
   "source": [
    "dfr1[1,]   # First row, all columns\n",
    "\n",
    "dfr1[,1]   # First column, all rows, the same as dfr1$ID\n",
    "\n",
    "dfr1$Age   # Age column, all rows\n",
    "\n",
    "dfr1[1:2,3:4] # Rows 1 and 2, columns 3 and 4 - \n",
    "                # the gender and age of John & Jim\n",
    "\n",
    "dfr1[c(1,3),] # Rows 1 and 3, all columns"
   ]
  },
  {
   "cell_type": "markdown",
   "metadata": {},
   "source": [
    "<div class=\"alert alert-success\">\n",
    "Find the names of everyone over the age of 30 in the data:\n",
    "</div>"
   ]
  },
  {
   "cell_type": "code",
   "execution_count": 13,
   "metadata": {
    "collapsed": false
   },
   "outputs": [
    {
     "data": {
      "text/html": [
       "<ol class=list-inline>\n",
       "\t<li>'Jim'</li>\n",
       "\t<li>'Jane'</li>\n",
       "\t<li>'Jill'</li>\n",
       "</ol>\n"
      ],
      "text/latex": [
       "\\begin{enumerate*}\n",
       "\\item 'Jim'\n",
       "\\item 'Jane'\n",
       "\\item 'Jill'\n",
       "\\end{enumerate*}\n"
      ],
      "text/markdown": [
       "1. 'Jim'\n",
       "2. 'Jane'\n",
       "3. 'Jill'\n",
       "\n",
       "\n"
      ],
      "text/plain": [
       "[1] \"Jim\"  \"Jane\" \"Jill\""
      ]
     },
     "metadata": {},
     "output_type": "display_data"
    },
    {
     "data": {
      "text/html": [
       "<ol class=list-inline>\n",
       "\t<li>'Jim'</li>\n",
       "\t<li>'Jane'</li>\n",
       "\t<li>'Jill'</li>\n",
       "</ol>\n"
      ],
      "text/latex": [
       "\\begin{enumerate*}\n",
       "\\item 'Jim'\n",
       "\\item 'Jane'\n",
       "\\item 'Jill'\n",
       "\\end{enumerate*}\n"
      ],
      "text/markdown": [
       "1. 'Jim'\n",
       "2. 'Jane'\n",
       "3. 'Jill'\n",
       "\n",
       "\n"
      ],
      "text/plain": [
       "[1] \"Jim\"  \"Jane\" \"Jill\""
      ]
     },
     "metadata": {},
     "output_type": "display_data"
    }
   ],
   "source": [
    "dfr1[dfr1$Age>30,2]\n",
    "dfr1[dfr1$Age>30,]$FirstName\n"
   ]
  },
  {
   "cell_type": "markdown",
   "metadata": {},
   "source": [
    "<div class=\"alert alert-success\">\n",
    "Find the average age of all females in the data:\n",
    "</div>"
   ]
  },
  {
   "cell_type": "code",
   "execution_count": 16,
   "metadata": {
    "collapsed": false
   },
   "outputs": [
    {
     "data": {
      "text/html": [
       "49.5"
      ],
      "text/latex": [
       "49.5"
      ],
      "text/markdown": [
       "49.5"
      ],
      "text/plain": [
       "[1] 49.5"
      ]
     },
     "metadata": {},
     "output_type": "display_data"
    }
   ],
   "source": [
    "mean ( dfr1[dfr1$Female==TRUE,4] )"
   ]
  },
  {
   "cell_type": "code",
   "execution_count": null,
   "metadata": {
    "collapsed": true
   },
   "outputs": [],
   "source": []
  }
 ],
 "metadata": {
  "kernelspec": {
   "display_name": "R",
   "language": "R",
   "name": "ir"
  },
  "language_info": {
   "codemirror_mode": "r",
   "file_extension": ".r",
   "mimetype": "text/x-r-source",
   "name": "R",
   "pygments_lexer": "r",
   "version": "3.3.2"
  }
 },
 "nbformat": 4,
 "nbformat_minor": 2
}

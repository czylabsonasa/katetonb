{
 "cells": [
  {
   "cell_type": "markdown",
   "metadata": {},
   "source": [
    "## Flow-control and loops\n",
    "The controls and loops in **R** are fairly straightforward (see below). They determine if a block of code will be executed, and how many times. \n",
    "Blocks of code in **R** are enclosed in *curly* brackets `{}`."
   ]
  },
  {
   "cell_type": "code",
   "execution_count": 1,
   "metadata": {},
   "outputs": [
    {
     "data": {
      "text/html": [
       "2"
      ],
      "text/latex": [
       "2"
      ],
      "text/markdown": [
       "2"
      ],
      "text/plain": [
       "[1] 2"
      ]
     },
     "metadata": {},
     "output_type": "display_data"
    }
   ],
   "source": [
    "# if (condition) expr1 else expr2\n",
    "\n",
    "x <- 5; y <- 10\n",
    "\n",
    "if (x==0) y <- 0 else y <- y/x #  \n",
    "\n",
    "y"
   ]
  },
  {
   "cell_type": "code",
   "execution_count": 2,
   "metadata": {},
   "outputs": [
    {
     "data": {
      "text/html": [
       "15"
      ],
      "text/latex": [
       "15"
      ],
      "text/markdown": [
       "15"
      ],
      "text/plain": [
       "[1] 15"
      ]
     },
     "metadata": {},
     "output_type": "display_data"
    },
    {
     "data": {
      "text/html": [
       "120"
      ],
      "text/latex": [
       "120"
      ],
      "text/markdown": [
       "120"
      ],
      "text/plain": [
       "[1] 120"
      ]
     },
     "metadata": {},
     "output_type": "display_data"
    }
   ],
   "source": [
    "# for (variable in sequence) expr\n",
    "\n",
    "ASum <- 0; AProd <- 1\n",
    "\n",
    "for (i in 1:x){\n",
    "  ASum <- ASum + i\n",
    "\n",
    "  AProd <- AProd * i\n",
    "}\n",
    "\n",
    "ASum  # equivalent to sum(1:x)\n",
    "AProd # equivalemt to prod(1:x)"
   ]
  }
 ],
 "metadata": {
  "kernelspec": {
   "display_name": "R",
   "language": "R",
   "name": "ir"
  },
  "language_info": {
   "codemirror_mode": "r",
   "file_extension": ".r",
   "mimetype": "text/x-r-source",
   "name": "R",
   "pygments_lexer": "r",
   "version": "3.2.3"
  }
 },
 "nbformat": 4,
 "nbformat_minor": 2
}

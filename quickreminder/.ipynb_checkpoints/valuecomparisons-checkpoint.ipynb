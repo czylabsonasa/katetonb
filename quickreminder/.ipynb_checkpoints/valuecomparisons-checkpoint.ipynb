{
 "cells": [
  {
   "cell_type": "markdown",
   "metadata": {},
   "source": [
    "## Value comparisons\n",
    "We can use the standard operators <, >, <=, >=, ==(equality) and != (inequality). Comparisons return Boolean values: `TRUE` or `FALSE` (often abbreviated to just `T` and `F`)."
   ]
  },
  {
   "cell_type": "code",
   "execution_count": null,
   "metadata": {},
   "outputs": [],
   "source": [
    "2==2  # Equality\n",
    "\n",
    "2!=2  # Inequality\n",
    "\n",
    "x <= y # less than or equal: \"<\", \">\", and \">=\" also work"
   ]
  }
 ],
 "metadata": {
  "kernelspec": {
   "display_name": "R",
   "language": "R",
   "name": "ir"
  },
  "language_info": {
   "codemirror_mode": "r",
   "file_extension": ".r",
   "mimetype": "text/x-r-source",
   "name": "R",
   "pygments_lexer": "r",
   "version": "3.2.3"
  }
 },
 "nbformat": 4,
 "nbformat_minor": 2
}
